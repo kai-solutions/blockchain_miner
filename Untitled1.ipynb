{
 "cells": [
  {
   "cell_type": "code",
   "execution_count": 1,
   "id": "5bd95efc",
   "metadata": {},
   "outputs": [],
   "source": [
    "import asyncio"
   ]
  },
  {
   "cell_type": "code",
   "execution_count": 25,
   "id": "485443c3",
   "metadata": {},
   "outputs": [],
   "source": [
    "async def count():\n",
    "    print('One')\n",
    "    await asyncio.sleep(1)\n",
    "    print('Two')\n",
    "    \n",
    "async def main():\n",
    "    asyncio.gather(count(), count(), count())\n"
   ]
  },
  {
   "cell_type": "code",
   "execution_count": 26,
   "id": "69d86511",
   "metadata": {},
   "outputs": [
    {
     "name": "stdout",
     "output_type": "stream",
     "text": [
      " executed in 0.00 seconds.\n",
      "One\n",
      "One\n",
      "One\n",
      "Two\n",
      "Two\n",
      "Two\n"
     ]
    }
   ],
   "source": [
    "import time\n",
    "s = time.perf_counter()\n",
    "await main()\n",
    "elapsed = time.perf_counter() - s\n",
    "print(f' executed in {elapsed:0.2f} seconds.')"
   ]
  },
  {
   "cell_type": "code",
   "execution_count": 18,
   "id": "65715cd3",
   "metadata": {},
   "outputs": [],
   "source": [
    "def count():\n",
    "    print('One')\n",
    "    time.sleep(1)\n",
    "    print('Two')"
   ]
  },
  {
   "cell_type": "code",
   "execution_count": 19,
   "id": "2d1b2aa1",
   "metadata": {},
   "outputs": [],
   "source": [
    "def main ():\n",
    "    for _ in range(3):\n",
    "        count()"
   ]
  },
  {
   "cell_type": "code",
   "execution_count": 21,
   "id": "b9878463",
   "metadata": {},
   "outputs": [
    {
     "name": "stdout",
     "output_type": "stream",
     "text": [
      "One\n",
      "Two\n",
      "One\n",
      "Two\n",
      "One\n",
      "Two\n",
      " executed in 3.02 seconds.\n"
     ]
    }
   ],
   "source": [
    "s = time.perf_counter()\n",
    "main()\n",
    "elapsed = time.perf_counter() - s\n",
    "print(f' executed in {elapsed:0.2f} seconds.')"
   ]
  },
  {
   "cell_type": "code",
   "execution_count": null,
   "id": "2b6b3faf",
   "metadata": {},
   "outputs": [],
   "source": []
  }
 ],
 "metadata": {
  "kernelspec": {
   "display_name": "Python 3 (ipykernel)",
   "language": "python",
   "name": "python3"
  },
  "language_info": {
   "codemirror_mode": {
    "name": "ipython",
    "version": 3
   },
   "file_extension": ".py",
   "mimetype": "text/x-python",
   "name": "python",
   "nbconvert_exporter": "python",
   "pygments_lexer": "ipython3",
   "version": "3.9.5"
  }
 },
 "nbformat": 4,
 "nbformat_minor": 5
}
