{
 "cells": [
  {
   "cell_type": "code",
   "execution_count": null,
   "id": "7bb6ee38",
   "metadata": {},
   "outputs": [],
   "source": [
    "import requests\n",
    "import json\n",
    "import qrcode\n",
    "from web3.auto import w3\n",
    "from eth_account.messages import encode_defunct"
   ]
  },
  {
   "cell_type": "code",
   "execution_count": null,
   "id": "a158d60d",
   "metadata": {},
   "outputs": [],
   "source": [
    "def get_raw_message():\n",
    "    \"\"\"\n",
    "    Function to get message to sign from axie\n",
    "    \"\"\"\n",
    "    # An exemple of a requestBody needed\n",
    "    request_body = {\n",
    "        \"operationName\":\"CreateRandomMessage\"\n",
    "        ,\"variables\":{}\n",
    "        ,\"query\":\"mutation CreateRandomMessage {\\n  createRandomMessage\\n}\\n\"\n",
    "    }\n",
    "    # Send the request\n",
    "    r = requests.post('https://axieinfinity.com/graphql-server-v2/graphql'\n",
    "                      , headers = {'User-Agent': 'Mozilla/5.0 (Windows NT 6.1) AppleWebKit/537.36 (KHTML, like Gecko) Chrome/41.0.2228.0 Safari/537.36',}\n",
    "                      , data=request_body)\n",
    "    # Load the data into json format\n",
    "    json_data = json.loads(r.text)\n",
    "    # Return the message to sign\n",
    "    return json_data['data']['createRandomMessage']"
   ]
  },
  {
   "cell_type": "code",
   "execution_count": null,
   "id": "ba3327fc",
   "metadata": {},
   "outputs": [],
   "source": [
    "def get_sign_message(raw_message, account_private_key):\n",
    "    \"\"\"\n",
    "    Function to sign the message got from getRawMessage function\n",
    "    \"\"\"\n",
    "    # Load the private key from the DataBase in Hex\n",
    "    private_key = bytearray.fromhex(account_private_key)\n",
    "    message = encode_defunct(text=raw_message)\n",
    "    # Sign the message with the private key\n",
    "    hex_signature = w3.eth.account.sign_message(message, private_key=private_key)\n",
    "    # Return the signature\n",
    "    return hex_signature"
   ]
  },
  {
   "cell_type": "code",
   "execution_count": null,
   "id": "20442ac5",
   "metadata": {},
   "outputs": [],
   "source": [
    "def submit_signature(signed_message, message, account_address):\n",
    "    \"\"\"\n",
    "    Function to submit the signature and get authorization\n",
    "    \"\"\"\n",
    "    # An example of a requestBody needed\n",
    "    request_body = {\n",
    "        \"operationName\":\"CreateAccessTokenWithSignature\"\n",
    "        ,\"variables\":{\"input\":{\n",
    "            \"mainnet\":\"ethereum\"\n",
    "            ,\"owner\":\"User's Eth Wallet Address\"\n",
    "            ,\"message\":\"User's Raw Message\"\n",
    "            ,\"signature\":\"User's Signed Message\"}}\n",
    "        ,\"query\":\"mutation CreateAccessTokenWithSignature($input: SignatureInput!) {\\n  createAccessTokenWithSignature(input: $input) {\\n    newAccount\\n    result\\n    accessToken\\n    __typename\\n  }\\n}\\n\"\n",
    "    }\n",
    "\n",
    "    # Remplace in that example to the actual signed message\n",
    "    request_body['variables']['input']['signature'] = signed_message['signature'].hex()\n",
    "    # Remplace in that example to the actual raw message\n",
    "    request_body['variables']['input']['message'] = message\n",
    "    # Remplace in that example to the actual account address\n",
    "    request_body['variables']['input']['owner'] = account_address\n",
    "    # Send the request\n",
    "    r = requests.post('https://axieinfinity.com/graphql-server-v2/graphql'\n",
    "                      , headers = {'User-Agent': 'Mozilla/5.0 (Windows NT 6.1) AppleWebKit/537.36 (KHTML, like Gecko) Chrome/41.0.2228.0 Safari/537.36',}\n",
    "                      , json=request_body)\n",
    "    # Load the data into json format\n",
    "    json_data = json.loads(r.text)\n",
    "    # Return the accessToken value$\n",
    "    print(json_data)\n",
    "    return json_data['data']['createAccessTokenWithSignature']['accessToken']\n",
    "    return"
   ]
  }
 ],
 "metadata": {
  "kernelspec": {
   "display_name": "Python 3 (ipykernel)",
   "language": "python",
   "name": "python3"
  },
  "language_info": {
   "codemirror_mode": {
    "name": "ipython",
    "version": 3
   },
   "file_extension": ".py",
   "mimetype": "text/x-python",
   "name": "python",
   "nbconvert_exporter": "python",
   "pygments_lexer": "ipython3",
   "version": "3.9.5"
  }
 },
 "nbformat": 4,
 "nbformat_minor": 5
}
