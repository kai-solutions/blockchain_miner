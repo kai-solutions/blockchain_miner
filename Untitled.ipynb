{
 "cells": [
  {
   "cell_type": "code",
   "execution_count": 16,
   "id": "1d5e1cb2",
   "metadata": {},
   "outputs": [],
   "source": [
    "import json\n",
    "import pandas as pd\n",
    "from eth_account import account\n",
    "from web3 import Web3"
   ]
  },
  {
   "cell_type": "code",
   "execution_count": 17,
   "id": "83966794",
   "metadata": {},
   "outputs": [],
   "source": [
    "projectID = '69765a3368f44f5c8cc3691d2361e496'"
   ]
  },
  {
   "cell_type": "code",
   "execution_count": 25,
   "id": "86fcdd14",
   "metadata": {},
   "outputs": [],
   "source": [
    "infura_url = f'https://rinkeby.mainnet.io/v3/{projectID}'\n",
    "web3 = Web3(Web3.HTTPProvider(infura_url))"
   ]
  },
  {
   "cell_type": "code",
   "execution_count": 26,
   "id": "2154bb8b",
   "metadata": {},
   "outputs": [
    {
     "data": {
      "text/plain": [
       "web3.providers.websocket.WebsocketProvider"
      ]
     },
     "execution_count": 26,
     "metadata": {},
     "output_type": "execute_result"
    }
   ],
   "source": [
    "Web3.WebsocketProvider"
   ]
  },
  {
   "cell_type": "code",
   "execution_count": 27,
   "id": "a5e093f2",
   "metadata": {},
   "outputs": [
    {
     "name": "stdout",
     "output_type": "stream",
     "text": [
      "Network connection error\n"
     ]
    }
   ],
   "source": [
    "if web3.isConnected():\n",
    "    print('The connection with Ethereum network is successfull')\n",
    "else:\n",
    "    print('Network connection error')"
   ]
  },
  {
   "cell_type": "code",
   "execution_count": 32,
   "id": "b01b6aea",
   "metadata": {},
   "outputs": [],
   "source": [
    "web3ws = Web3(Web3.WebsocketProvider(f'wss://mainnet.infura.io/ws/v3/{projectID}'))"
   ]
  },
  {
   "cell_type": "code",
   "execution_count": 33,
   "id": "3c33228e",
   "metadata": {},
   "outputs": [
    {
     "name": "stdout",
     "output_type": "stream",
     "text": [
      "The connection with Ethereum network is successfull\n"
     ]
    }
   ],
   "source": [
    "if web3ws.isConnected():\n",
    "    print('The connection with Ethereum network is successfull')\n",
    "else:\n",
    "    print('Network connection error')"
   ]
  },
  {
   "cell_type": "code",
   "execution_count": null,
   "id": "5fd2366a",
   "metadata": {},
   "outputs": [],
   "source": [
    "topic = ''"
   ]
  },
  {
   "cell_type": "code",
   "execution_count": null,
   "id": "ce3c0098",
   "metadata": {},
   "outputs": [],
   "source": [
    "suscription = web3ws.eth.suscribe(topic)"
   ]
  },
  {
   "cell_type": "code",
   "execution_count": null,
   "id": "58be27af",
   "metadata": {},
   "outputs": [],
   "source": [
    "suscription.on('data', txHash)"
   ]
  }
 ],
 "metadata": {
  "kernelspec": {
   "display_name": "Python 3 (ipykernel)",
   "language": "python",
   "name": "python3"
  },
  "language_info": {
   "codemirror_mode": {
    "name": "ipython",
    "version": 3
   },
   "file_extension": ".py",
   "mimetype": "text/x-python",
   "name": "python",
   "nbconvert_exporter": "python",
   "pygments_lexer": "ipython3",
   "version": "3.9.5"
  }
 },
 "nbformat": 4,
 "nbformat_minor": 5
}
