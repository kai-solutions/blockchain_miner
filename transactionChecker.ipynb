{
 "cells": [
  {
   "cell_type": "code",
   "execution_count": 10,
   "id": "53609d24",
   "metadata": {},
   "outputs": [],
   "source": [
    "import json\n",
    "import pandas as pd\n",
    "import numpy as np\n",
    "from eth_account import account\n",
    "from web3 import Web3"
   ]
  },
  {
   "cell_type": "code",
   "execution_count": 2,
   "id": "0fac0312",
   "metadata": {},
   "outputs": [],
   "source": [
    "infura_url = 'https://mainnet.infura.io/v3/69765a3368f44f5c8cc3691d2361e496'\n",
    "web3 = Web3(Web3.HTTPProvider(infura_url))"
   ]
  },
  {
   "cell_type": "code",
   "execution_count": 3,
   "id": "d36e9195",
   "metadata": {},
   "outputs": [
    {
     "name": "stdout",
     "output_type": "stream",
     "text": [
      "The connection with Ethereum network is successfull\n"
     ]
    }
   ],
   "source": [
    "if web3.isConnected():\n",
    "    print('The connection with Ethereum network is successfull')\n",
    "else:\n",
    "    print('Network connection error')"
   ]
  },
  {
   "cell_type": "code",
   "execution_count": 4,
   "id": "5ece200b",
   "metadata": {},
   "outputs": [],
   "source": [
    "# Ronin Bridge Smart Contract\n",
    "address = '0x1A2a1c938CE3eC39b6D47113c7955bAa9DD454F2'\n",
    "abi = json.loads('[{\"inputs\":[{\"internalType\":\"address\",\"name\":\"_proxyTo\",\"type\":\"address\"},{\"internalType\":\"address\",\"name\":\"_registry\",\"type\":\"address\"}],\"payable\":false,\"stateMutability\":\"nonpayable\",\"type\":\"constructor\"},{\"anonymous\":false,\"inputs\":[{\"indexed\":true,\"internalType\":\"address\",\"name\":\"_oldAdmin\",\"type\":\"address\"},{\"indexed\":true,\"internalType\":\"address\",\"name\":\"_newAdmin\",\"type\":\"address\"}],\"name\":\"AdminChanged\",\"type\":\"event\"},{\"anonymous\":false,\"inputs\":[{\"indexed\":true,\"internalType\":\"address\",\"name\":\"_oldAdmin\",\"type\":\"address\"}],\"name\":\"AdminRemoved\",\"type\":\"event\"},{\"anonymous\":false,\"inputs\":[],\"name\":\"Paused\",\"type\":\"event\"},{\"anonymous\":false,\"inputs\":[{\"indexed\":true,\"internalType\":\"address\",\"name\":\"_new\",\"type\":\"address\"},{\"indexed\":true,\"internalType\":\"address\",\"name\":\"_old\",\"type\":\"address\"}],\"name\":\"ProxyUpdated\",\"type\":\"event\"},{\"anonymous\":false,\"inputs\":[{\"indexed\":true,\"internalType\":\"uint256\",\"name\":\"_depositId\",\"type\":\"uint256\"},{\"indexed\":true,\"internalType\":\"address\",\"name\":\"_owner\",\"type\":\"address\"},{\"indexed\":true,\"internalType\":\"address\",\"name\":\"_tokenAddress\",\"type\":\"address\"},{\"indexed\":false,\"internalType\":\"address\",\"name\":\"_sidechainAddress\",\"type\":\"address\"},{\"indexed\":false,\"internalType\":\"uint32\",\"name\":\"_standard\",\"type\":\"uint32\"},{\"indexed\":false,\"internalType\":\"uint256\",\"name\":\"_tokenNumber\",\"type\":\"uint256\"}],\"name\":\"TokenDeposited\",\"type\":\"event\"},{\"anonymous\":false,\"inputs\":[{\"indexed\":true,\"internalType\":\"uint256\",\"name\":\"_withdrawId\",\"type\":\"uint256\"},{\"indexed\":true,\"internalType\":\"address\",\"name\":\"_owner\",\"type\":\"address\"},{\"indexed\":true,\"internalType\":\"address\",\"name\":\"_tokenAddress\",\"type\":\"address\"},{\"indexed\":false,\"internalType\":\"uint256\",\"name\":\"_tokenNumber\",\"type\":\"uint256\"}],\"name\":\"TokenWithdrew\",\"type\":\"event\"},{\"anonymous\":false,\"inputs\":[],\"name\":\"Unpaused\",\"type\":\"event\"},{\"payable\":true,\"stateMutability\":\"payable\",\"type\":\"fallback\"},{\"constant\":true,\"inputs\":[],\"name\":\"admin\",\"outputs\":[{\"internalType\":\"address\",\"name\":\"\",\"type\":\"address\"}],\"payable\":false,\"stateMutability\":\"view\",\"type\":\"function\"},{\"constant\":false,\"inputs\":[{\"internalType\":\"address\",\"name\":\"_newAdmin\",\"type\":\"address\"}],\"name\":\"changeAdmin\",\"outputs\":[],\"payable\":false,\"stateMutability\":\"nonpayable\",\"type\":\"function\"},{\"constant\":true,\"inputs\":[],\"name\":\"depositCount\",\"outputs\":[{\"internalType\":\"uint256\",\"name\":\"\",\"type\":\"uint256\"}],\"payable\":false,\"stateMutability\":\"view\",\"type\":\"function\"},{\"constant\":true,\"inputs\":[{\"internalType\":\"uint256\",\"name\":\"\",\"type\":\"uint256\"}],\"name\":\"deposits\",\"outputs\":[{\"internalType\":\"address\",\"name\":\"owner\",\"type\":\"address\"},{\"internalType\":\"address\",\"name\":\"tokenAddress\",\"type\":\"address\"},{\"internalType\":\"address\",\"name\":\"sidechainAddress\",\"type\":\"address\"},{\"internalType\":\"uint32\",\"name\":\"standard\",\"type\":\"uint32\"},{\"internalType\":\"uint256\",\"name\":\"tokenNumber\",\"type\":\"uint256\"}],\"payable\":false,\"stateMutability\":\"view\",\"type\":\"function\"},{\"constant\":true,\"inputs\":[],\"name\":\"implementation\",\"outputs\":[{\"internalType\":\"address\",\"name\":\"\",\"type\":\"address\"}],\"payable\":false,\"stateMutability\":\"view\",\"type\":\"function\"},{\"constant\":false,\"inputs\":[],\"name\":\"pause\",\"outputs\":[],\"payable\":false,\"stateMutability\":\"nonpayable\",\"type\":\"function\"},{\"constant\":true,\"inputs\":[],\"name\":\"paused\",\"outputs\":[{\"internalType\":\"bool\",\"name\":\"\",\"type\":\"bool\"}],\"payable\":false,\"stateMutability\":\"view\",\"type\":\"function\"},{\"constant\":true,\"inputs\":[],\"name\":\"proxyType\",\"outputs\":[{\"internalType\":\"uint256\",\"name\":\"\",\"type\":\"uint256\"}],\"payable\":false,\"stateMutability\":\"pure\",\"type\":\"function\"},{\"constant\":true,\"inputs\":[],\"name\":\"registry\",\"outputs\":[{\"internalType\":\"contract Registry\",\"name\":\"\",\"type\":\"address\"}],\"payable\":false,\"stateMutability\":\"view\",\"type\":\"function\"},{\"constant\":false,\"inputs\":[],\"name\":\"removeAdmin\",\"outputs\":[],\"payable\":false,\"stateMutability\":\"nonpayable\",\"type\":\"function\"},{\"constant\":false,\"inputs\":[],\"name\":\"unpause\",\"outputs\":[],\"payable\":false,\"stateMutability\":\"nonpayable\",\"type\":\"function\"},{\"constant\":false,\"inputs\":[{\"internalType\":\"address\",\"name\":\"_newProxyTo\",\"type\":\"address\"}],\"name\":\"updateProxyTo\",\"outputs\":[],\"payable\":false,\"stateMutability\":\"nonpayable\",\"type\":\"function\"},{\"constant\":false,\"inputs\":[{\"internalType\":\"address\",\"name\":\"_registry\",\"type\":\"address\"}],\"name\":\"updateRegistry\",\"outputs\":[],\"payable\":false,\"stateMutability\":\"nonpayable\",\"type\":\"function\"},{\"constant\":true,\"inputs\":[{\"internalType\":\"uint256\",\"name\":\"\",\"type\":\"uint256\"}],\"name\":\"withdrawals\",\"outputs\":[{\"internalType\":\"address\",\"name\":\"owner\",\"type\":\"address\"},{\"internalType\":\"address\",\"name\":\"tokenAddress\",\"type\":\"address\"},{\"internalType\":\"uint256\",\"name\":\"tokenNumber\",\"type\":\"uint256\"}],\"payable\":false,\"stateMutability\":\"view\",\"type\":\"function\"}]')\n",
    "contract = web3.eth.contract(address=address, abi = abi)"
   ]
  },
  {
   "cell_type": "code",
   "execution_count": 5,
   "id": "eb38acb4",
   "metadata": {},
   "outputs": [
    {
     "name": "stdout",
     "output_type": "stream",
     "text": [
      "The current balance is 245.489821169803970846 ether\n"
     ]
    }
   ],
   "source": [
    "# Balance\n",
    "balance = web3.eth.getBalance(address)\n",
    "print(f'The current balance is {web3.fromWei(balance, \"ether\")} ether')"
   ]
  },
  {
   "cell_type": "code",
   "execution_count": 6,
   "id": "5422134f",
   "metadata": {},
   "outputs": [
    {
     "name": "stdout",
     "output_type": "stream",
     "text": [
      "Searching block 13417050\n"
     ]
    }
   ],
   "source": [
    "#latestBlock\n",
    "block = web3.eth.getBlock('latest', full_transactions=True)\n",
    "number = block.number\n",
    "print(f'Searching block {number}')"
   ]
  },
  {
   "cell_type": "code",
   "execution_count": 9,
   "id": "40654623",
   "metadata": {},
   "outputs": [],
   "source": [
    "#Option number 1 -- import all transactions directly into DataFrame\n",
    "df = pd.DataFrame.from_dict(block.transactions)"
   ]
  },
  {
   "cell_type": "code",
   "execution_count": 14,
   "id": "55d18583",
   "metadata": {},
   "outputs": [
    {
     "data": {
      "text/html": [
       "<div>\n",
       "<style scoped>\n",
       "    .dataframe tbody tr th:only-of-type {\n",
       "        vertical-align: middle;\n",
       "    }\n",
       "\n",
       "    .dataframe tbody tr th {\n",
       "        vertical-align: top;\n",
       "    }\n",
       "\n",
       "    .dataframe thead th {\n",
       "        text-align: right;\n",
       "    }\n",
       "</style>\n",
       "<table border=\"1\" class=\"dataframe\">\n",
       "  <thead>\n",
       "    <tr style=\"text-align: right;\">\n",
       "      <th></th>\n",
       "      <th>blockHash</th>\n",
       "      <th>blockNumber</th>\n",
       "      <th>from</th>\n",
       "      <th>gas</th>\n",
       "      <th>gasPrice</th>\n",
       "      <th>hash</th>\n",
       "      <th>input</th>\n",
       "      <th>nonce</th>\n",
       "      <th>r</th>\n",
       "      <th>s</th>\n",
       "      <th>to</th>\n",
       "      <th>transactionIndex</th>\n",
       "      <th>type</th>\n",
       "      <th>v</th>\n",
       "      <th>value</th>\n",
       "    </tr>\n",
       "  </thead>\n",
       "  <tbody>\n",
       "    <tr>\n",
       "      <th>0</th>\n",
       "      <td>b';\\x0e\\x81\\x8c\\xb4X\\xdf\\xbb\\x05\\x0f8d\\xe8D\\xe...</td>\n",
       "      <td>13417050</td>\n",
       "      <td>0x3Fae7D59a245527Fc09F2c274E18A3834E027708</td>\n",
       "      <td>291000</td>\n",
       "      <td>351000000000</td>\n",
       "      <td>b'P\\xc79Nf\\xb2\\x88?\\x12\\xf9\\x13\\xdc\\xfd\\xb9\\xd...</td>\n",
       "      <td>0x5161b966000000000000000000000000000000000000...</td>\n",
       "      <td>891</td>\n",
       "      <td>b\"XLQ\\xbe\\x03\\x1esd\\xff\\xb0\\x1d7$\\x80\\xcdt@\\xd...</td>\n",
       "      <td>b'lc\\x9e\\xcf\\xa2\\xca^\\t\\xaa\\xd5/\\xfdT\\xe3v/\\x9...</td>\n",
       "      <td>0xDef1C0ded9bec7F1a1670819833240f027b25EfF</td>\n",
       "      <td>0</td>\n",
       "      <td>0x0</td>\n",
       "      <td>37</td>\n",
       "      <td>4070677816754160869</td>\n",
       "    </tr>\n",
       "    <tr>\n",
       "      <th>1</th>\n",
       "      <td>b';\\x0e\\x81\\x8c\\xb4X\\xdf\\xbb\\x05\\x0f8d\\xe8D\\xe...</td>\n",
       "      <td>13417050</td>\n",
       "      <td>0xcDd37Ada79F589c15bD4f8fD2083dc88E34A2af2</td>\n",
       "      <td>210000</td>\n",
       "      <td>241169727426</td>\n",
       "      <td>b'd2\\xf2\\x85\\xb5(\\xe3:\\x8e\\x95\\x00\\x90qF\\xa2\\x...</td>\n",
       "      <td>0x</td>\n",
       "      <td>86817</td>\n",
       "      <td>b'\\xefG\\xb2\\x84\\x84W\\xa8T4?\\x9b`\\xdc\\x19`?\\xa5...</td>\n",
       "      <td>b'\\x1b\\x9c\\xda,\\xb8x8\\xd1^\\xaf\\xc0\\xa4q\\xf9`\\x...</td>\n",
       "      <td>0x1c443c54C79D0dB1EA795B97aF3B493C2744aBFA</td>\n",
       "      <td>1</td>\n",
       "      <td>0x0</td>\n",
       "      <td>27</td>\n",
       "      <td>1036125030000000000</td>\n",
       "    </tr>\n",
       "    <tr>\n",
       "      <th>2</th>\n",
       "      <td>b';\\x0e\\x81\\x8c\\xb4X\\xdf\\xbb\\x05\\x0f8d\\xe8D\\xe...</td>\n",
       "      <td>13417050</td>\n",
       "      <td>0x3c979fB790c86e361738ED17588c1e8b4C4cc49A</td>\n",
       "      <td>90000</td>\n",
       "      <td>187000000000</td>\n",
       "      <td>b'\\x18\\x93\\xf8\\xc0\\xb7\\xeb\\xab\\x0b$\\xeed\\x03\\x...</td>\n",
       "      <td>0x</td>\n",
       "      <td>110308</td>\n",
       "      <td>b'\\xd8\\xaaW\\xa0\\xb8\\xa7^n\\xc5\\x91d\\x1d\\x98\\xfc...</td>\n",
       "      <td>b'a?\\xa3\\x8a\\xc2\\x90u\\xd4\\x80\\xac\\xa4\\x19\\x05\\...</td>\n",
       "      <td>0xCfF9F4dF39972abdd0Bdd37539fD11FD861a94f8</td>\n",
       "      <td>2</td>\n",
       "      <td>0x0</td>\n",
       "      <td>37</td>\n",
       "      <td>277088700000000000000</td>\n",
       "    </tr>\n",
       "    <tr>\n",
       "      <th>3</th>\n",
       "      <td>b';\\x0e\\x81\\x8c\\xb4X\\xdf\\xbb\\x05\\x0f8d\\xe8D\\xe...</td>\n",
       "      <td>13417050</td>\n",
       "      <td>0xaB5C66752a9e8167967685F1450532fB96d5d24f</td>\n",
       "      <td>105000</td>\n",
       "      <td>187000000000</td>\n",
       "      <td>b'\\xf2uy\\x9a\\x86\\xf9m\\x99\\x9e\\x8dd\\x19C\\x81\\xf...</td>\n",
       "      <td>0xa9059cbb0000000000000000000000008d45d21ef47a...</td>\n",
       "      <td>1904562</td>\n",
       "      <td>b'&lt;pL\\xfa\\xbdSXWMNb\\xa5\\xac\\xd2\\x91[T\\x83\\xd8\\...</td>\n",
       "      <td>b'\\x1c7\\x8d}%\\x15\\x12\\x10#R\\xd0o\\x948\\xaf\\x85\\...</td>\n",
       "      <td>0xdAC17F958D2ee523a2206206994597C13D831ec7</td>\n",
       "      <td>3</td>\n",
       "      <td>0x0</td>\n",
       "      <td>38</td>\n",
       "      <td>0</td>\n",
       "    </tr>\n",
       "    <tr>\n",
       "      <th>4</th>\n",
       "      <td>b';\\x0e\\x81\\x8c\\xb4X\\xdf\\xbb\\x05\\x0f8d\\xe8D\\xe...</td>\n",
       "      <td>13417050</td>\n",
       "      <td>0xE93381fB4c4F14bDa253907b18faD305D799241a</td>\n",
       "      <td>70196</td>\n",
       "      <td>187000000000</td>\n",
       "      <td>b'\\xe0\\xfd\\xe06&gt;\\xec8\\xdf\\xd8`*\\xaf\\xf0\\x84\\r&lt;...</td>\n",
       "      <td>0xa9059cbb000000000000000000000000bf5ae133b9a0...</td>\n",
       "      <td>2386758</td>\n",
       "      <td>b'\\x96=\\x8f\\xfa&amp;\\xc4\\xea\\'\\xda\\xa2p\\xabi\\x9c\\x...</td>\n",
       "      <td>b'1\\x99g\\xc6ry\\xe6r\\x06\\x96#\\xc8\\xb4\\x11?\\xb1A...</td>\n",
       "      <td>0x4da0C48376C277cdBd7Fc6FdC6936DEE3e4AdF75</td>\n",
       "      <td>4</td>\n",
       "      <td>0x0</td>\n",
       "      <td>38</td>\n",
       "      <td>0</td>\n",
       "    </tr>\n",
       "  </tbody>\n",
       "</table>\n",
       "</div>"
      ],
      "text/plain": [
       "                                           blockHash  blockNumber  \\\n",
       "0  b';\\x0e\\x81\\x8c\\xb4X\\xdf\\xbb\\x05\\x0f8d\\xe8D\\xe...     13417050   \n",
       "1  b';\\x0e\\x81\\x8c\\xb4X\\xdf\\xbb\\x05\\x0f8d\\xe8D\\xe...     13417050   \n",
       "2  b';\\x0e\\x81\\x8c\\xb4X\\xdf\\xbb\\x05\\x0f8d\\xe8D\\xe...     13417050   \n",
       "3  b';\\x0e\\x81\\x8c\\xb4X\\xdf\\xbb\\x05\\x0f8d\\xe8D\\xe...     13417050   \n",
       "4  b';\\x0e\\x81\\x8c\\xb4X\\xdf\\xbb\\x05\\x0f8d\\xe8D\\xe...     13417050   \n",
       "\n",
       "                                         from     gas      gasPrice  \\\n",
       "0  0x3Fae7D59a245527Fc09F2c274E18A3834E027708  291000  351000000000   \n",
       "1  0xcDd37Ada79F589c15bD4f8fD2083dc88E34A2af2  210000  241169727426   \n",
       "2  0x3c979fB790c86e361738ED17588c1e8b4C4cc49A   90000  187000000000   \n",
       "3  0xaB5C66752a9e8167967685F1450532fB96d5d24f  105000  187000000000   \n",
       "4  0xE93381fB4c4F14bDa253907b18faD305D799241a   70196  187000000000   \n",
       "\n",
       "                                                hash  \\\n",
       "0  b'P\\xc79Nf\\xb2\\x88?\\x12\\xf9\\x13\\xdc\\xfd\\xb9\\xd...   \n",
       "1  b'd2\\xf2\\x85\\xb5(\\xe3:\\x8e\\x95\\x00\\x90qF\\xa2\\x...   \n",
       "2  b'\\x18\\x93\\xf8\\xc0\\xb7\\xeb\\xab\\x0b$\\xeed\\x03\\x...   \n",
       "3  b'\\xf2uy\\x9a\\x86\\xf9m\\x99\\x9e\\x8dd\\x19C\\x81\\xf...   \n",
       "4  b'\\xe0\\xfd\\xe06>\\xec8\\xdf\\xd8`*\\xaf\\xf0\\x84\\r<...   \n",
       "\n",
       "                                               input    nonce  \\\n",
       "0  0x5161b966000000000000000000000000000000000000...      891   \n",
       "1                                                 0x    86817   \n",
       "2                                                 0x   110308   \n",
       "3  0xa9059cbb0000000000000000000000008d45d21ef47a...  1904562   \n",
       "4  0xa9059cbb000000000000000000000000bf5ae133b9a0...  2386758   \n",
       "\n",
       "                                                   r  \\\n",
       "0  b\"XLQ\\xbe\\x03\\x1esd\\xff\\xb0\\x1d7$\\x80\\xcdt@\\xd...   \n",
       "1  b'\\xefG\\xb2\\x84\\x84W\\xa8T4?\\x9b`\\xdc\\x19`?\\xa5...   \n",
       "2  b'\\xd8\\xaaW\\xa0\\xb8\\xa7^n\\xc5\\x91d\\x1d\\x98\\xfc...   \n",
       "3  b'<pL\\xfa\\xbdSXWMNb\\xa5\\xac\\xd2\\x91[T\\x83\\xd8\\...   \n",
       "4  b'\\x96=\\x8f\\xfa&\\xc4\\xea\\'\\xda\\xa2p\\xabi\\x9c\\x...   \n",
       "\n",
       "                                                   s  \\\n",
       "0  b'lc\\x9e\\xcf\\xa2\\xca^\\t\\xaa\\xd5/\\xfdT\\xe3v/\\x9...   \n",
       "1  b'\\x1b\\x9c\\xda,\\xb8x8\\xd1^\\xaf\\xc0\\xa4q\\xf9`\\x...   \n",
       "2  b'a?\\xa3\\x8a\\xc2\\x90u\\xd4\\x80\\xac\\xa4\\x19\\x05\\...   \n",
       "3  b'\\x1c7\\x8d}%\\x15\\x12\\x10#R\\xd0o\\x948\\xaf\\x85\\...   \n",
       "4  b'1\\x99g\\xc6ry\\xe6r\\x06\\x96#\\xc8\\xb4\\x11?\\xb1A...   \n",
       "\n",
       "                                           to  transactionIndex type   v  \\\n",
       "0  0xDef1C0ded9bec7F1a1670819833240f027b25EfF                 0  0x0  37   \n",
       "1  0x1c443c54C79D0dB1EA795B97aF3B493C2744aBFA                 1  0x0  27   \n",
       "2  0xCfF9F4dF39972abdd0Bdd37539fD11FD861a94f8                 2  0x0  37   \n",
       "3  0xdAC17F958D2ee523a2206206994597C13D831ec7                 3  0x0  38   \n",
       "4  0x4da0C48376C277cdBd7Fc6FdC6936DEE3e4AdF75                 4  0x0  38   \n",
       "\n",
       "                   value  \n",
       "0    4070677816754160869  \n",
       "1    1036125030000000000  \n",
       "2  277088700000000000000  \n",
       "3                      0  \n",
       "4                      0  "
      ]
     },
     "execution_count": 14,
     "metadata": {},
     "output_type": "execute_result"
    }
   ],
   "source": [
    "df.iloc[:5]"
   ]
  },
  {
   "cell_type": "code",
   "execution_count": 12,
   "id": "351dd337",
   "metadata": {
    "scrolled": true
   },
   "outputs": [
    {
     "data": {
      "text/html": [
       "<div>\n",
       "<style scoped>\n",
       "    .dataframe tbody tr th:only-of-type {\n",
       "        vertical-align: middle;\n",
       "    }\n",
       "\n",
       "    .dataframe tbody tr th {\n",
       "        vertical-align: top;\n",
       "    }\n",
       "\n",
       "    .dataframe thead th {\n",
       "        text-align: right;\n",
       "    }\n",
       "</style>\n",
       "<table border=\"1\" class=\"dataframe\">\n",
       "  <thead>\n",
       "    <tr style=\"text-align: right;\">\n",
       "      <th></th>\n",
       "      <th>blockHash</th>\n",
       "      <th>blockNumber</th>\n",
       "      <th>from</th>\n",
       "      <th>gas</th>\n",
       "      <th>gasPrice</th>\n",
       "      <th>hash</th>\n",
       "      <th>input</th>\n",
       "      <th>nonce</th>\n",
       "      <th>r</th>\n",
       "      <th>s</th>\n",
       "      <th>to</th>\n",
       "      <th>transactionIndex</th>\n",
       "      <th>type</th>\n",
       "      <th>v</th>\n",
       "      <th>value</th>\n",
       "    </tr>\n",
       "  </thead>\n",
       "  <tbody>\n",
       "  </tbody>\n",
       "</table>\n",
       "</div>"
      ],
      "text/plain": [
       "Empty DataFrame\n",
       "Columns: [blockHash, blockNumber, from, gas, gasPrice, hash, input, nonce, r, s, to, transactionIndex, type, v, value]\n",
       "Index: []"
      ]
     },
     "execution_count": 12,
     "metadata": {},
     "output_type": "execute_result"
    }
   ],
   "source": [
    "df.loc[(df['to'] == address) | (df['from'] == address) ]"
   ]
  },
  {
   "cell_type": "code",
   "execution_count": null,
   "id": "f78b1181",
   "metadata": {},
   "outputs": [],
   "source": []
  },
  {
   "cell_type": "code",
   "execution_count": null,
   "id": "adf3d04a",
   "metadata": {},
   "outputs": [],
   "source": []
  },
  {
   "cell_type": "code",
   "execution_count": null,
   "id": "e03ab07c",
   "metadata": {},
   "outputs": [],
   "source": []
  }
 ],
 "metadata": {
  "kernelspec": {
   "display_name": "Python 3 (ipykernel)",
   "language": "python",
   "name": "python3"
  },
  "language_info": {
   "codemirror_mode": {
    "name": "ipython",
    "version": 3
   },
   "file_extension": ".py",
   "mimetype": "text/x-python",
   "name": "python",
   "nbconvert_exporter": "python",
   "pygments_lexer": "ipython3",
   "version": "3.9.5"
  }
 },
 "nbformat": 4,
 "nbformat_minor": 5
}
