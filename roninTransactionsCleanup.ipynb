{
 "cells": [
  {
   "cell_type": "code",
   "execution_count": 81,
   "id": "1624b3dc",
   "metadata": {},
   "outputs": [],
   "source": [
    "import os\n",
    "import pandas as pd\n",
    "import numpy as np\n",
    "from datetime import datetime"
   ]
  },
  {
   "cell_type": "code",
   "execution_count": 116,
   "id": "429aa66f",
   "metadata": {},
   "outputs": [
    {
     "name": "stdout",
     "output_type": "stream",
     "text": [
      "/home/kraftman/Documents/Projects/Blockchain_Analytics\n"
     ]
    }
   ],
   "source": [
    "file = 'RoninTransactionInfo.csv'\n",
    "current_directory = os.getcwd()\n",
    "print(current_directory)\n",
    "\n",
    "for root, dirs, files in os.walk(current_directory):\n",
    "    for name in files:\n",
    "        if name == file:\n",
    "            df = pd.read_csv(os.path.join(root, name), sep = ','\n",
    "                             # Careful with converters. This may be unnecessary\n",
    "                             , converters='')\n"
   ]
  },
  {
   "cell_type": "code",
   "execution_count": 92,
   "id": "4bfed8b2",
   "metadata": {
    "scrolled": true
   },
   "outputs": [],
   "source": [
    "# Filter errors\n",
    "df = df[~df['TxHash'].str.contains(\"error at block\")]"
   ]
  },
  {
   "cell_type": "code",
   "execution_count": 93,
   "id": "ec419802",
   "metadata": {},
   "outputs": [
    {
     "data": {
      "text/plain": [
       "0    (Tue, 19 Oct 2021 10:53:33 GMT)\n",
       "1    (Tue, 19 Oct 2021 10:53:36 GMT)\n",
       "2    (Tue, 19 Oct 2021 10:53:36 GMT)\n",
       "4    (Tue, 19 Oct 2021 10:53:36 GMT)\n",
       "5    (Tue, 19 Oct 2021 10:53:36 GMT)\n",
       "Name: Timestamp, dtype: object"
      ]
     },
     "execution_count": 93,
     "metadata": {},
     "output_type": "execute_result"
    }
   ],
   "source": [
    "df.Timestamp.head(5)"
   ]
  },
  {
   "cell_type": "code",
   "execution_count": 94,
   "id": "dc91c15d",
   "metadata": {
    "scrolled": true
   },
   "outputs": [],
   "source": [
    "#Fix and convert to datetime format\n",
    "df.Timestamp = pd.to_datetime(df.Timestamp, format = '(%a, %d %b %Y %H:%M:%S %Z)' )\n",
    "df.Timestamp = df.Timestamp.dt.tz_localize(None)"
   ]
  },
  {
   "cell_type": "code",
   "execution_count": 117,
   "id": "727157e8",
   "metadata": {},
   "outputs": [],
   "source": [
    "def basic_transform(df):\n",
    "    df.columns = df.columns.str.strip().str.replace(' ', '_').str.upper().str.replace('(','',regex=True)\n",
    "    objs = df.select_dtypes(['object'])\n",
    "    for i in objs.columns:\n",
    "        try:\n",
    "            df[i] = i.apply(lambda x: x.str.strip())\n",
    "        except:\n",
    "            pass\n",
    "\n",
    "    return df"
   ]
  },
  {
   "cell_type": "code",
   "execution_count": 121,
   "id": "486bcef8",
   "metadata": {},
   "outputs": [],
   "source": [
    "def specific_transform(df):\n",
    "    # Filter errors\n",
    "    df = df[~df['TxHash'].str.contains(\"error at block\")]\n",
    "    df = basic_transform(df)\n",
    "    #Fix and convert to datetime format\n",
    "    df.TIMESTAMP = pd.to_datetime(df.TIMESTAMP, format = '(%a, %d %b %Y %H:%M:%S %Z)' )\n",
    "    df.TIMESTAMP = df.TIMESTAMP.dt.tz_localize(None)\n",
    "    \n",
    "    return df"
   ]
  },
  {
   "cell_type": "code",
   "execution_count": 130,
   "id": "3a70a870",
   "metadata": {},
   "outputs": [
    {
     "name": "stderr",
     "output_type": "stream",
     "text": [
      "/home/kraftman/Documents/Projects/Blockchain_Analytics/venv/lib/python3.9/site-packages/pandas/core/generic.py:5516: SettingWithCopyWarning: \n",
      "A value is trying to be set on a copy of a slice from a DataFrame.\n",
      "Try using .loc[row_indexer,col_indexer] = value instead\n",
      "\n",
      "See the caveats in the documentation: https://pandas.pydata.org/pandas-docs/stable/user_guide/indexing.html#returning-a-view-versus-a-copy\n",
      "  self[name] = value\n"
     ]
    }
   ],
   "source": [
    "df = specific_transform(df)"
   ]
  },
  {
   "cell_type": "code",
   "execution_count": 131,
   "id": "6f86ca28",
   "metadata": {},
   "outputs": [
    {
     "data": {
      "text/plain": [
       "TXHASH                        object\n",
       "STATUS                        object\n",
       "BLOCK                        float64\n",
       "TIMESTAMP             datetime64[ns]\n",
       "FROM                          object\n",
       "TO                            object\n",
       "TRANSACTIONACTIONS            object\n",
       "VALUE                         object\n",
       "TRANSACTIONFEE                object\n",
       "GASPRICE                      object\n",
       "GASLIMIT                      object\n",
       "GASUSED                       object\n",
       "NONCE                        float64\n",
       "INPUTDATA                     object\n",
       "dtype: object"
      ]
     },
     "execution_count": 131,
     "metadata": {},
     "output_type": "execute_result"
    }
   ],
   "source": [
    "df.dtypes"
   ]
  },
  {
   "cell_type": "code",
   "execution_count": 132,
   "id": "8175d5ee",
   "metadata": {},
   "outputs": [
    {
     "data": {
      "text/html": [
       "<div>\n",
       "<style scoped>\n",
       "    .dataframe tbody tr th:only-of-type {\n",
       "        vertical-align: middle;\n",
       "    }\n",
       "\n",
       "    .dataframe tbody tr th {\n",
       "        vertical-align: top;\n",
       "    }\n",
       "\n",
       "    .dataframe thead th {\n",
       "        text-align: right;\n",
       "    }\n",
       "</style>\n",
       "<table border=\"1\" class=\"dataframe\">\n",
       "  <thead>\n",
       "    <tr style=\"text-align: right;\">\n",
       "      <th></th>\n",
       "      <th>TXHASH</th>\n",
       "      <th>STATUS</th>\n",
       "      <th>BLOCK</th>\n",
       "      <th>TIMESTAMP</th>\n",
       "      <th>FROM</th>\n",
       "      <th>TO</th>\n",
       "      <th>TRANSACTIONACTIONS</th>\n",
       "      <th>VALUE</th>\n",
       "      <th>TRANSACTIONFEE</th>\n",
       "      <th>GASPRICE</th>\n",
       "      <th>GASLIMIT</th>\n",
       "      <th>GASUSED</th>\n",
       "      <th>NONCE</th>\n",
       "      <th>INPUTDATA</th>\n",
       "    </tr>\n",
       "  </thead>\n",
       "  <tbody>\n",
       "    <tr>\n",
       "      <th>0</th>\n",
       "      <td>0x70e8e3e0cf70045c2546be57311244c8ed61636d9e51...</td>\n",
       "      <td>Success</td>\n",
       "      <td>7689535.0</td>\n",
       "      <td>2021-10-19 10:53:33</td>\n",
       "      <td>ronin:f224beff587362a88d859e899d0d80c080e1</td>\n",
       "      <td>Ronin Gateway Contract</td>\n",
       "      <td>Deposit to Ronin</td>\n",
       "      <td>0 RON</td>\n",
       "      <td>0.00028294 RON</td>\n",
       "      <td>1 GWEI</td>\n",
       "      <td>287,139</td>\n",
       "      <td>282,939</td>\n",
       "      <td>723606.0</td>\n",
       "      <td>['Function:batchDepositERCTokenFor(uint256[],a...</td>\n",
       "    </tr>\n",
       "    <tr>\n",
       "      <th>1</th>\n",
       "      <td>0xc81a3dd2aaa2e0a4b779ec9b77776d90513a25a54a14...</td>\n",
       "      <td>Success</td>\n",
       "      <td>7689536.0</td>\n",
       "      <td>2021-10-19 10:53:36</td>\n",
       "      <td>ronin:cb5431c239244357fce058aa23b14e446114</td>\n",
       "      <td>Smooth Love Potion Contract</td>\n",
       "      <td>Transfer</td>\n",
       "      <td>From\\nronin:cb5431c239244357fce058aa23b14e4461...</td>\n",
       "      <td>0 RON</td>\n",
       "      <td>Free</td>\n",
       "      <td>36,796</td>\n",
       "      <td>21,796</td>\n",
       "      <td>1.0</td>\n",
       "      <td>['Function:transfer(address,uint256)', 'Argume...</td>\n",
       "    </tr>\n",
       "    <tr>\n",
       "      <th>2</th>\n",
       "      <td>0x7ba411973fc5b4476af37da19c1e955059933390d88a...</td>\n",
       "      <td>Success</td>\n",
       "      <td>7689536.0</td>\n",
       "      <td>2021-10-19 10:53:36</td>\n",
       "      <td>ronin:ef2f284592789e52d75ca51867ebdf2a1f68</td>\n",
       "      <td>Marketplace Contract</td>\n",
       "      <td>Create Axie Sale</td>\n",
       "      <td>0 RON</td>\n",
       "      <td>Free</td>\n",
       "      <td>0 GWEI</td>\n",
       "      <td>370,943</td>\n",
       "      <td>316,388</td>\n",
       "      <td>389.0</td>\n",
       "      <td>['Function:createAuction(uint8[],address[],uin...</td>\n",
       "    </tr>\n",
       "    <tr>\n",
       "      <th>4</th>\n",
       "      <td>0xfdf7d166e938cb8cfac48a5e81be888237d06c330a85...</td>\n",
       "      <td>Success</td>\n",
       "      <td>7689536.0</td>\n",
       "      <td>2021-10-19 10:53:36</td>\n",
       "      <td>ronin:2b7b09764aba14d04f2bb88b4a01a0cd9f37</td>\n",
       "      <td>Smooth Love Potion Contract</td>\n",
       "      <td>Transfer</td>\n",
       "      <td>From\\nronin:2b7b09764aba14d04f2bb88b4a01a0cd9f...</td>\n",
       "      <td>0 RON</td>\n",
       "      <td>Free</td>\n",
       "      <td>36,808</td>\n",
       "      <td>21,808</td>\n",
       "      <td>3.0</td>\n",
       "      <td>['Function:transfer(address,uint256)', 'Argume...</td>\n",
       "    </tr>\n",
       "    <tr>\n",
       "      <th>5</th>\n",
       "      <td>0xb03692033c55d59aa8938537f603c22f7cb900421b53...</td>\n",
       "      <td>Success</td>\n",
       "      <td>7689536.0</td>\n",
       "      <td>2021-10-19 10:53:36</td>\n",
       "      <td>ronin:b318281b1edffb7ce0634665d3b2e2adafce</td>\n",
       "      <td>Smooth Love Potion Contract</td>\n",
       "      <td>Claim</td>\n",
       "      <td>From\\nronin:0000000000000000000000000000000000...</td>\n",
       "      <td>0 RON</td>\n",
       "      <td>Free</td>\n",
       "      <td>154,920</td>\n",
       "      <td>104,920</td>\n",
       "      <td>27.0</td>\n",
       "      <td>['Function:checkpoint(address,uint256,uint256,...</td>\n",
       "    </tr>\n",
       "    <tr>\n",
       "      <th>...</th>\n",
       "      <td>...</td>\n",
       "      <td>...</td>\n",
       "      <td>...</td>\n",
       "      <td>...</td>\n",
       "      <td>...</td>\n",
       "      <td>...</td>\n",
       "      <td>...</td>\n",
       "      <td>...</td>\n",
       "      <td>...</td>\n",
       "      <td>...</td>\n",
       "      <td>...</td>\n",
       "      <td>...</td>\n",
       "      <td>...</td>\n",
       "      <td>...</td>\n",
       "    </tr>\n",
       "    <tr>\n",
       "      <th>227</th>\n",
       "      <td>0x1aba5da45170740058eb49f3541d8b89486f716ff1c2...</td>\n",
       "      <td>Success</td>\n",
       "      <td>7689538.0</td>\n",
       "      <td>2021-10-19 10:53:42</td>\n",
       "      <td>ronin:91a88441bb5e1e66eaf34ce197c43afa59c3</td>\n",
       "      <td>Smooth Love Potion Contract</td>\n",
       "      <td>Transfer</td>\n",
       "      <td>From\\nronin:91a88441bb5e1e66eaf34ce197c43afa59...</td>\n",
       "      <td>0 RON</td>\n",
       "      <td>Free</td>\n",
       "      <td>36,808</td>\n",
       "      <td>21,808</td>\n",
       "      <td>14.0</td>\n",
       "      <td>['Function:transfer(address,uint256)', 'Argume...</td>\n",
       "    </tr>\n",
       "    <tr>\n",
       "      <th>228</th>\n",
       "      <td>0xd49eff24874df1c86e5d42cfa8e7f5b4b4eb72f36867...</td>\n",
       "      <td>Success</td>\n",
       "      <td>7689538.0</td>\n",
       "      <td>2021-10-19 10:53:42</td>\n",
       "      <td>ronin:03a101ecd59737afcc3054e2839047dfcf54</td>\n",
       "      <td>Marketplace Contract</td>\n",
       "      <td>Buy Axie</td>\n",
       "      <td>From\\nronin:6b0dd783461c8df7e6c483f4d00d6111c2...</td>\n",
       "      <td>0 RON</td>\n",
       "      <td>Free</td>\n",
       "      <td>407,965</td>\n",
       "      <td>174,878</td>\n",
       "      <td>0.0</td>\n",
       "      <td>['Function:settleAuction(address,address,uint2...</td>\n",
       "    </tr>\n",
       "    <tr>\n",
       "      <th>231</th>\n",
       "      <td>0x10356cd1f7e54e728f5f63f1886e2612cd647d611463...</td>\n",
       "      <td>Success</td>\n",
       "      <td>7689538.0</td>\n",
       "      <td>2021-10-19 10:53:42</td>\n",
       "      <td>ronin:b8bf21ba5279656a3dd6c5c7c2db33520cc2</td>\n",
       "      <td>Smooth Love Potion Contract</td>\n",
       "      <td>Claim</td>\n",
       "      <td>From\\nronin:0000000000000000000000000000000000...</td>\n",
       "      <td>0 RON</td>\n",
       "      <td>Free</td>\n",
       "      <td>154,925</td>\n",
       "      <td>104,925</td>\n",
       "      <td>9.0</td>\n",
       "      <td>['Function:checkpoint(address,uint256,uint256,...</td>\n",
       "    </tr>\n",
       "    <tr>\n",
       "      <th>232</th>\n",
       "      <td>0x2777f9bad5d7c6d74ea079dbf23ecf30124157199fc7...</td>\n",
       "      <td>Success</td>\n",
       "      <td>7689538.0</td>\n",
       "      <td>2021-10-19 10:53:42</td>\n",
       "      <td>ronin:a3ca665c39444db584442b47b2c33257df59</td>\n",
       "      <td>Marketplace Contract</td>\n",
       "      <td>Create Axie Sale</td>\n",
       "      <td>0 RON</td>\n",
       "      <td>Free</td>\n",
       "      <td>0 GWEI</td>\n",
       "      <td>390,448</td>\n",
       "      <td>335,588</td>\n",
       "      <td>12.0</td>\n",
       "      <td>['Function:createAuction(uint8[],address[],uin...</td>\n",
       "    </tr>\n",
       "    <tr>\n",
       "      <th>233</th>\n",
       "      <td>0x5e8d9e35d9343853c214b2b10a41f8f3b28951a066a2...</td>\n",
       "      <td>Success</td>\n",
       "      <td>7689538.0</td>\n",
       "      <td>2021-10-19 10:53:42</td>\n",
       "      <td>ronin:6956b1e4bc8ce1ea36d248a3ea16e00571a4</td>\n",
       "      <td>Smooth Love Potion Contract</td>\n",
       "      <td>Transfer</td>\n",
       "      <td>From\\nronin:6956b1e4bc8ce1ea36d248a3ea16e00571...</td>\n",
       "      <td>0 RON</td>\n",
       "      <td>Free</td>\n",
       "      <td>51,796</td>\n",
       "      <td>51,796</td>\n",
       "      <td>1763.0</td>\n",
       "      <td>['Function:transfer(address,uint256)', 'Argume...</td>\n",
       "    </tr>\n",
       "  </tbody>\n",
       "</table>\n",
       "<p>220 rows × 14 columns</p>\n",
       "</div>"
      ],
      "text/plain": [
       "                                                TXHASH   STATUS      BLOCK  \\\n",
       "0    0x70e8e3e0cf70045c2546be57311244c8ed61636d9e51...  Success  7689535.0   \n",
       "1    0xc81a3dd2aaa2e0a4b779ec9b77776d90513a25a54a14...  Success  7689536.0   \n",
       "2    0x7ba411973fc5b4476af37da19c1e955059933390d88a...  Success  7689536.0   \n",
       "4    0xfdf7d166e938cb8cfac48a5e81be888237d06c330a85...  Success  7689536.0   \n",
       "5    0xb03692033c55d59aa8938537f603c22f7cb900421b53...  Success  7689536.0   \n",
       "..                                                 ...      ...        ...   \n",
       "227  0x1aba5da45170740058eb49f3541d8b89486f716ff1c2...  Success  7689538.0   \n",
       "228  0xd49eff24874df1c86e5d42cfa8e7f5b4b4eb72f36867...  Success  7689538.0   \n",
       "231  0x10356cd1f7e54e728f5f63f1886e2612cd647d611463...  Success  7689538.0   \n",
       "232  0x2777f9bad5d7c6d74ea079dbf23ecf30124157199fc7...  Success  7689538.0   \n",
       "233  0x5e8d9e35d9343853c214b2b10a41f8f3b28951a066a2...  Success  7689538.0   \n",
       "\n",
       "              TIMESTAMP                                        FROM  \\\n",
       "0   2021-10-19 10:53:33  ronin:f224beff587362a88d859e899d0d80c080e1   \n",
       "1   2021-10-19 10:53:36  ronin:cb5431c239244357fce058aa23b14e446114   \n",
       "2   2021-10-19 10:53:36  ronin:ef2f284592789e52d75ca51867ebdf2a1f68   \n",
       "4   2021-10-19 10:53:36  ronin:2b7b09764aba14d04f2bb88b4a01a0cd9f37   \n",
       "5   2021-10-19 10:53:36  ronin:b318281b1edffb7ce0634665d3b2e2adafce   \n",
       "..                  ...                                         ...   \n",
       "227 2021-10-19 10:53:42  ronin:91a88441bb5e1e66eaf34ce197c43afa59c3   \n",
       "228 2021-10-19 10:53:42  ronin:03a101ecd59737afcc3054e2839047dfcf54   \n",
       "231 2021-10-19 10:53:42  ronin:b8bf21ba5279656a3dd6c5c7c2db33520cc2   \n",
       "232 2021-10-19 10:53:42  ronin:a3ca665c39444db584442b47b2c33257df59   \n",
       "233 2021-10-19 10:53:42  ronin:6956b1e4bc8ce1ea36d248a3ea16e00571a4   \n",
       "\n",
       "                              TO TRANSACTIONACTIONS  \\\n",
       "0         Ronin Gateway Contract   Deposit to Ronin   \n",
       "1    Smooth Love Potion Contract           Transfer   \n",
       "2           Marketplace Contract   Create Axie Sale   \n",
       "4    Smooth Love Potion Contract           Transfer   \n",
       "5    Smooth Love Potion Contract              Claim   \n",
       "..                           ...                ...   \n",
       "227  Smooth Love Potion Contract           Transfer   \n",
       "228         Marketplace Contract           Buy Axie   \n",
       "231  Smooth Love Potion Contract              Claim   \n",
       "232         Marketplace Contract   Create Axie Sale   \n",
       "233  Smooth Love Potion Contract           Transfer   \n",
       "\n",
       "                                                 VALUE  TRANSACTIONFEE  \\\n",
       "0                                                0 RON  0.00028294 RON   \n",
       "1    From\\nronin:cb5431c239244357fce058aa23b14e4461...           0 RON   \n",
       "2                                                0 RON            Free   \n",
       "4    From\\nronin:2b7b09764aba14d04f2bb88b4a01a0cd9f...           0 RON   \n",
       "5    From\\nronin:0000000000000000000000000000000000...           0 RON   \n",
       "..                                                 ...             ...   \n",
       "227  From\\nronin:91a88441bb5e1e66eaf34ce197c43afa59...           0 RON   \n",
       "228  From\\nronin:6b0dd783461c8df7e6c483f4d00d6111c2...           0 RON   \n",
       "231  From\\nronin:0000000000000000000000000000000000...           0 RON   \n",
       "232                                              0 RON            Free   \n",
       "233  From\\nronin:6956b1e4bc8ce1ea36d248a3ea16e00571...           0 RON   \n",
       "\n",
       "    GASPRICE GASLIMIT  GASUSED     NONCE  \\\n",
       "0     1 GWEI  287,139  282,939  723606.0   \n",
       "1       Free   36,796   21,796       1.0   \n",
       "2     0 GWEI  370,943  316,388     389.0   \n",
       "4       Free   36,808   21,808       3.0   \n",
       "5       Free  154,920  104,920      27.0   \n",
       "..       ...      ...      ...       ...   \n",
       "227     Free   36,808   21,808      14.0   \n",
       "228     Free  407,965  174,878       0.0   \n",
       "231     Free  154,925  104,925       9.0   \n",
       "232   0 GWEI  390,448  335,588      12.0   \n",
       "233     Free   51,796   51,796    1763.0   \n",
       "\n",
       "                                             INPUTDATA  \n",
       "0    ['Function:batchDepositERCTokenFor(uint256[],a...  \n",
       "1    ['Function:transfer(address,uint256)', 'Argume...  \n",
       "2    ['Function:createAuction(uint8[],address[],uin...  \n",
       "4    ['Function:transfer(address,uint256)', 'Argume...  \n",
       "5    ['Function:checkpoint(address,uint256,uint256,...  \n",
       "..                                                 ...  \n",
       "227  ['Function:transfer(address,uint256)', 'Argume...  \n",
       "228  ['Function:settleAuction(address,address,uint2...  \n",
       "231  ['Function:checkpoint(address,uint256,uint256,...  \n",
       "232  ['Function:createAuction(uint8[],address[],uin...  \n",
       "233  ['Function:transfer(address,uint256)', 'Argume...  \n",
       "\n",
       "[220 rows x 14 columns]"
      ]
     },
     "execution_count": 132,
     "metadata": {},
     "output_type": "execute_result"
    }
   ],
   "source": [
    "df"
   ]
  },
  {
   "cell_type": "code",
   "execution_count": 139,
   "id": "84d1b3ac",
   "metadata": {},
   "outputs": [
    {
     "name": "stderr",
     "output_type": "stream",
     "text": [
      "/home/kraftman/Documents/Projects/Blockchain_Analytics/venv/lib/python3.9/site-packages/pandas/core/indexing.py:1773: SettingWithCopyWarning: \n",
      "A value is trying to be set on a copy of a slice from a DataFrame.\n",
      "Try using .loc[row_indexer,col_indexer] = value instead\n",
      "\n",
      "See the caveats in the documentation: https://pandas.pydata.org/pandas-docs/stable/user_guide/indexing.html#returning-a-view-versus-a-copy\n",
      "  self._setitem_single_column(ilocs[0], value, pi)\n"
     ]
    }
   ],
   "source": [
    "df.replace({\n",
    "    'GASPRICE': {'Free':'0'}\n",
    "    ,'TRANSACTIONFEE': {'Free':'0'}\n",
    "},inplace=True)"
   ]
  },
  {
   "cell_type": "code",
   "execution_count": 142,
   "id": "966e5aba",
   "metadata": {},
   "outputs": [
    {
     "name": "stderr",
     "output_type": "stream",
     "text": [
      "/home/kraftman/Documents/Projects/Blockchain_Analytics/venv/lib/python3.9/site-packages/pandas/core/generic.py:5516: SettingWithCopyWarning: \n",
      "A value is trying to be set on a copy of a slice from a DataFrame.\n",
      "Try using .loc[row_indexer,col_indexer] = value instead\n",
      "\n",
      "See the caveats in the documentation: https://pandas.pydata.org/pandas-docs/stable/user_guide/indexing.html#returning-a-view-versus-a-copy\n",
      "  self[name] = value\n"
     ]
    }
   ],
   "source": [
    "df.BLOCK = df.BLOCK.astype(int)\n",
    "df.NONCE = df.NONCE.astype(int)"
   ]
  },
  {
   "cell_type": "code",
   "execution_count": 160,
   "id": "b4dfee42",
   "metadata": {},
   "outputs": [
    {
     "data": {
      "text/plain": [
       "array(['Deposit to Ronin', 'Transfer', 'Create Axie Sale', 'Claim',\n",
       "       'Cancel Axie Sale', 'Breed Axie', 'Buy Axie', 'Restake AXS Reward',\n",
       "       'Withdraw from Ronin', 'Grow Axies to Adult'], dtype=object)"
      ]
     },
     "execution_count": 160,
     "metadata": {},
     "output_type": "execute_result"
    }
   ],
   "source": [
    "df.TRANSACTIONACTIONS.unique()"
   ]
  },
  {
   "cell_type": "code",
   "execution_count": 167,
   "id": "12ee9fec",
   "metadata": {},
   "outputs": [],
   "source": [
    "df.loc[((df.TRANSACTIONACTIONS == 'Withdraw from Ronin') \n",
    "       | (df.TRANSACTIONACTIONS == 'Deposit to Ronin'))].to_csv('depositsandwithdrawals.csv')"
   ]
  },
  {
   "cell_type": "code",
   "execution_count": 155,
   "id": "eb0ff263",
   "metadata": {},
   "outputs": [
    {
     "data": {
      "text/plain": [
       "array(['Deposit to Ronin', 'Transfer', 'Create Axie Sale', 'Transfer',\n",
       "       'Claim', 'Claim', 'Transfer', 'Cancel Axie Sale',\n",
       "       'Create Axie Sale', 'Transfer', 'Breed Axie', 'Transfer',\n",
       "       'Transfer', 'Create Axie Sale', 'Create Axie Sale', 'Transfer',\n",
       "       'Transfer', 'Transfer', 'Create Axie Sale', 'Claim', 'Claim',\n",
       "       'Cancel Axie Sale', 'Create Axie Sale', 'Create Axie Sale',\n",
       "       'Transfer', 'Claim', 'Transfer', 'Create Axie Sale',\n",
       "       'Cancel Axie Sale', 'Buy Axie', 'Transfer', 'Transfer',\n",
       "       'Create Axie Sale', 'Create Axie Sale', 'Create Axie Sale',\n",
       "       'Cancel Axie Sale', 'Claim', 'Transfer', 'Transfer', 'Transfer',\n",
       "       'Claim', 'Create Axie Sale', 'Transfer', 'Claim', 'Transfer',\n",
       "       'Cancel Axie Sale', 'Create Axie Sale', 'Claim', 'Buy Axie',\n",
       "       'Transfer', 'Restake AXS Reward', 'Claim', 'Breed Axie', 'Claim',\n",
       "       'Claim', 'Create Axie Sale', 'Restake AXS Reward', 'Transfer',\n",
       "       'Breed Axie', 'Create Axie Sale', 'Claim', 'Transfer',\n",
       "       'Create Axie Sale', 'Create Axie Sale', 'Transfer',\n",
       "       'Create Axie Sale', 'Claim', 'Claim', 'Transfer', 'Claim',\n",
       "       'Transfer', 'Transfer', 'Cancel Axie Sale', 'Cancel Axie Sale',\n",
       "       'Create Axie Sale', 'Transfer', 'Claim', 'Cancel Axie Sale',\n",
       "       'Transfer', 'Create Axie Sale', 'Transfer', 'Claim', 'Transfer',\n",
       "       'Transfer', 'Transfer', 'Transfer', 'Create Axie Sale',\n",
       "       'Withdraw from Ronin', 'Transfer', 'Transfer', 'Claim', 'Claim',\n",
       "       'Transfer', 'Claim', 'Transfer', 'Create Axie Sale', 'Transfer',\n",
       "       'Claim', 'Claim', 'Claim', 'Breed Axie', 'Transfer', 'Transfer',\n",
       "       'Transfer', 'Cancel Axie Sale', 'Create Axie Sale',\n",
       "       'Cancel Axie Sale', 'Create Axie Sale', 'Breed Axie', 'Transfer',\n",
       "       'Claim', 'Transfer', 'Claim', 'Restake AXS Reward',\n",
       "       'Create Axie Sale', 'Claim', 'Create Axie Sale',\n",
       "       'Cancel Axie Sale', 'Create Axie Sale', 'Buy Axie', 'Transfer',\n",
       "       'Transfer', 'Create Axie Sale', 'Transfer', 'Transfer', 'Claim',\n",
       "       'Claim', 'Breed Axie', 'Transfer', 'Create Axie Sale', 'Claim',\n",
       "       'Create Axie Sale', 'Create Axie Sale', 'Transfer', 'Claim',\n",
       "       'Create Axie Sale', 'Breed Axie', 'Grow Axies to Adult',\n",
       "       'Buy Axie', 'Transfer', 'Transfer', 'Buy Axie', 'Deposit to Ronin',\n",
       "       'Transfer', 'Transfer', 'Cancel Axie Sale', 'Breed Axie',\n",
       "       'Transfer', 'Create Axie Sale', 'Breed Axie', 'Transfer',\n",
       "       'Cancel Axie Sale', 'Transfer', 'Transfer', 'Transfer', 'Transfer',\n",
       "       'Restake AXS Reward', 'Cancel Axie Sale', 'Transfer',\n",
       "       'Create Axie Sale', 'Breed Axie', 'Cancel Axie Sale', 'Transfer',\n",
       "       'Restake AXS Reward', 'Cancel Axie Sale', 'Claim', 'Breed Axie',\n",
       "       'Claim', 'Transfer', 'Create Axie Sale', 'Transfer',\n",
       "       'Create Axie Sale', 'Transfer', 'Breed Axie', 'Create Axie Sale',\n",
       "       'Transfer', 'Transfer', 'Cancel Axie Sale', 'Transfer',\n",
       "       'Cancel Axie Sale', 'Transfer', 'Transfer', 'Transfer', 'Transfer',\n",
       "       'Create Axie Sale', 'Transfer', 'Transfer', 'Transfer', 'Transfer',\n",
       "       'Restake AXS Reward', 'Cancel Axie Sale', 'Transfer',\n",
       "       'Cancel Axie Sale', 'Create Axie Sale', 'Transfer',\n",
       "       'Create Axie Sale', 'Transfer', 'Create Axie Sale', 'Transfer',\n",
       "       'Cancel Axie Sale', 'Claim', 'Create Axie Sale',\n",
       "       'Cancel Axie Sale', 'Restake AXS Reward', 'Transfer', 'Transfer',\n",
       "       'Breed Axie', 'Transfer', 'Cancel Axie Sale', 'Create Axie Sale',\n",
       "       'Cancel Axie Sale', 'Transfer', 'Create Axie Sale', 'Transfer',\n",
       "       'Cancel Axie Sale', 'Transfer', 'Buy Axie', 'Claim',\n",
       "       'Create Axie Sale', 'Transfer'], dtype=object)"
      ]
     },
     "execution_count": 155,
     "metadata": {},
     "output_type": "execute_result"
    }
   ],
   "source": [
    "df.loc[TRANSACTIONACTIONS.values"
   ]
  },
  {
   "cell_type": "code",
   "execution_count": 153,
   "id": "bc12d152",
   "metadata": {},
   "outputs": [
    {
     "data": {
      "text/html": [
       "<div>\n",
       "<style scoped>\n",
       "    .dataframe tbody tr th:only-of-type {\n",
       "        vertical-align: middle;\n",
       "    }\n",
       "\n",
       "    .dataframe tbody tr th {\n",
       "        vertical-align: top;\n",
       "    }\n",
       "\n",
       "    .dataframe thead th {\n",
       "        text-align: right;\n",
       "    }\n",
       "</style>\n",
       "<table border=\"1\" class=\"dataframe\">\n",
       "  <thead>\n",
       "    <tr style=\"text-align: right;\">\n",
       "      <th></th>\n",
       "      <th>TXHASH</th>\n",
       "      <th>STATUS</th>\n",
       "      <th>BLOCK</th>\n",
       "      <th>TIMESTAMP</th>\n",
       "      <th>FROM</th>\n",
       "      <th>TO</th>\n",
       "      <th>TRANSACTIONACTIONS</th>\n",
       "      <th>VALUE</th>\n",
       "      <th>TRANSACTIONFEE</th>\n",
       "      <th>GASPRICE</th>\n",
       "      <th>GASLIMIT</th>\n",
       "      <th>GASUSED</th>\n",
       "      <th>NONCE</th>\n",
       "      <th>INPUTDATA</th>\n",
       "    </tr>\n",
       "  </thead>\n",
       "  <tbody>\n",
       "    <tr>\n",
       "      <th>93</th>\n",
       "      <td>0xf5f5b7f3a03b3f223fabb0f582d37c18a32295753762...</td>\n",
       "      <td>Success</td>\n",
       "      <td>7689536</td>\n",
       "      <td>2021-10-19 10:53:36</td>\n",
       "      <td>ronin:79fff1c77018d1da30db31d170e13588adef</td>\n",
       "      <td>Axie Contract</td>\n",
       "      <td>Transfer</td>\n",
       "      <td>From\\nronin:79fff1c77018d1da30db31d170e13588ad...</td>\n",
       "      <td>0 RON</td>\n",
       "      <td>0</td>\n",
       "      <td>167,663</td>\n",
       "      <td>87,663</td>\n",
       "      <td>5</td>\n",
       "      <td>['Function:safeTransferFrom(address,address,ui...</td>\n",
       "    </tr>\n",
       "  </tbody>\n",
       "</table>\n",
       "</div>"
      ],
      "text/plain": [
       "                                               TXHASH   STATUS    BLOCK  \\\n",
       "93  0xf5f5b7f3a03b3f223fabb0f582d37c18a32295753762...  Success  7689536   \n",
       "\n",
       "             TIMESTAMP                                        FROM  \\\n",
       "93 2021-10-19 10:53:36  ronin:79fff1c77018d1da30db31d170e13588adef   \n",
       "\n",
       "               TO TRANSACTIONACTIONS  \\\n",
       "93  Axie Contract           Transfer   \n",
       "\n",
       "                                                VALUE TRANSACTIONFEE GASPRICE  \\\n",
       "93  From\\nronin:79fff1c77018d1da30db31d170e13588ad...          0 RON        0   \n",
       "\n",
       "   GASLIMIT GASUSED  NONCE                                          INPUTDATA  \n",
       "93  167,663  87,663      5  ['Function:safeTransferFrom(address,address,ui...  "
      ]
     },
     "execution_count": 153,
     "metadata": {},
     "output_type": "execute_result"
    }
   ],
   "source": [
    "df.loc[df.FROM == 'ronin:79fff1c77018d1da30db31d170e13588adef']"
   ]
  },
  {
   "cell_type": "code",
   "execution_count": 106,
   "id": "dc1a28a8",
   "metadata": {},
   "outputs": [
    {
     "data": {
      "text/plain": [
       "TXHASH                        object\n",
       "STATUS                        object\n",
       "BLOCK                        float64\n",
       "TIMESTAMP             datetime64[ns]\n",
       "FROM                          object\n",
       "TO                            object\n",
       "TRANSACTIONACTIONS            object\n",
       "VALUE                         object\n",
       "TRANSACTIONFEE                object\n",
       "GASPRICE                      object\n",
       "GASLIMIT                      object\n",
       "GASUSED                       object\n",
       "NONCE                        float64\n",
       "INPUTDATA                     object\n",
       "dtype: object"
      ]
     },
     "execution_count": 106,
     "metadata": {},
     "output_type": "execute_result"
    }
   ],
   "source": [
    "df.dtypesa"
   ]
  },
  {
   "cell_type": "code",
   "execution_count": null,
   "id": "9131101e",
   "metadata": {},
   "outputs": [],
   "source": []
  }
 ],
 "metadata": {
  "kernelspec": {
   "display_name": "Python 3 (ipykernel)",
   "language": "python",
   "name": "python3"
  },
  "language_info": {
   "codemirror_mode": {
    "name": "ipython",
    "version": 3
   },
   "file_extension": ".py",
   "mimetype": "text/x-python",
   "name": "python",
   "nbconvert_exporter": "python",
   "pygments_lexer": "ipython3",
   "version": "3.9.5"
  }
 },
 "nbformat": 4,
 "nbformat_minor": 5
}
