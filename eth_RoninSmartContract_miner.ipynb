{
 "cells": [
  {
   "cell_type": "code",
   "execution_count": null,
   "id": "5bd95efc",
   "metadata": {},
   "outputs": [],
   "source": [
    "import asyncio"
   ]
  },
  {
   "cell_type": "code",
   "execution_count": null,
   "id": "485443c3",
   "metadata": {},
   "outputs": [],
   "source": [
    "async def count():\n",
    "    print('One')\n",
    "    y = await asyncio.sleep(1)\n",
    "    print('Two')\n",
    "    return y\n",
    "    \n",
    "async def main():\n",
    "    await asyncio.gather(count(), count(), count())\n",
    "    #await count(),count()\n"
   ]
  },
  {
   "cell_type": "code",
   "execution_count": null,
   "id": "69d86511",
   "metadata": {},
   "outputs": [],
   "source": [
    "import time\n",
    "s = time.perf_counter()\n",
    "await main()\n",
    "elapsed = time.perf_counter() - s\n",
    "print(f' executed in {elapsed:0.2f} seconds.')"
   ]
  },
  {
   "cell_type": "code",
   "execution_count": null,
   "id": "65715cd3",
   "metadata": {},
   "outputs": [],
   "source": [
    "def count():\n",
    "    print('One')\n",
    "    time.sleep(1)\n",
    "    print('Two')"
   ]
  },
  {
   "cell_type": "code",
   "execution_count": null,
   "id": "2d1b2aa1",
   "metadata": {},
   "outputs": [],
   "source": [
    "def main ():\n",
    "    for _ in range(3):\n",
    "        count()"
   ]
  },
  {
   "cell_type": "code",
   "execution_count": null,
   "id": "b9878463",
   "metadata": {},
   "outputs": [],
   "source": [
    "s = time.perf_counter()\n",
    "main()\n",
    "elapsed = time.perf_counter() - s\n",
    "print(f' executed in {elapsed:0.2f} seconds.')"
   ]
  },
  {
   "cell_type": "code",
   "execution_count": null,
   "id": "2b6b3faf",
   "metadata": {},
   "outputs": [],
   "source": [
    "import random"
   ]
  },
  {
   "cell_type": "code",
   "execution_count": null,
   "id": "66d3a4a7",
   "metadata": {},
   "outputs": [],
   "source": [
    "c = (\n",
    "    \"\\033[0m\",   # End of color\n",
    "    \"\\033[36m\",  # Cyan\n",
    "    \"\\033[91m\",  # Red\n",
    "    \"\\033[35m\",  # Magenta\n",
    ")"
   ]
  },
  {
   "cell_type": "code",
   "execution_count": null,
   "id": "1ad617a3",
   "metadata": {},
   "outputs": [],
   "source": [
    "async def makerandom(idx: int, threshold: int = 6) -> int:\n",
    "    print(c[idx + 1] + f'Initiated makerandom({idx})')\n",
    "    i = random.randint(0,10)\n",
    "    while i <= threshold:\n",
    "        print(c[idx + 1] + f\"makerandom({idx}) == {i} too low; retrying.\")\n",
    "        await asyncio.sleep(idx + 1)\n",
    "        i = random.randint(0, 10)\n",
    "    print(c[idx + 1] + f\"---> Finished: makerandom({idx}) == {i}\" + c[0])\n",
    "    return i\n",
    "\n",
    "async def main():\n",
    "    res = await asyncio.gather(*(makerandom(i, 10 - i - 1) for i in range(3)))\n",
    "    return res"
   ]
  },
  {
   "cell_type": "code",
   "execution_count": null,
   "id": "2e74cbba",
   "metadata": {},
   "outputs": [],
   "source": [
    "random.seed(444)\n",
    "r1, r2, r3 = await (main())\n",
    "print()\n",
    "print(f\"r1: {r1}, r2: {r2}, r3: {r3}\")"
   ]
  },
  {
   "cell_type": "markdown",
   "id": "cd887b8e",
   "metadata": {},
   "source": [
    "## ASYNC LOGGER "
   ]
  },
  {
   "cell_type": "code",
   "execution_count": 2,
   "id": "6202402f",
   "metadata": {},
   "outputs": [],
   "source": [
    "import json\n",
    "import os\n",
    "import pandas as pd\n",
    "import numpy as np\n",
    "import asyncio\n",
    "from eth_account import account\n",
    "from web3 import Web3\n",
    "from src import s3_services\n",
    "from src import sql_manager\n",
    "from datetime import datetime\n",
    "from importlib import reload"
   ]
  },
  {
   "cell_type": "code",
   "execution_count": 47,
   "id": "9d0d0489",
   "metadata": {},
   "outputs": [
    {
     "name": "stdout",
     "output_type": "stream",
     "text": [
      "The connection with Ethereum network is successfull\n"
     ]
    }
   ],
   "source": [
    "#Web3 Connection Handler\n",
    "projectID = '69765a3368f44f5c8cc3691d2361e496'\n",
    "\n",
    "infura_url = f'https://mainnet.infura.io/v3/{projectID}'\n",
    "web3 = Web3(Web3.HTTPProvider(infura_url))\n",
    "\n",
    "infura_url = f'wss://mainnet.infura.io/ws/v3/{projectID}'\n",
    "web3ws = Web3(Web3.WebsocketProvider(infura_url))\n",
    "\n",
    "if web3.isConnected() and web3ws.isConnected():\n",
    "    print('The connection with Ethereum network is successfull')\n",
    "else:\n",
    "    print('Network connection error')"
   ]
  },
  {
   "cell_type": "code",
   "execution_count": null,
   "id": "a9adda3b",
   "metadata": {},
   "outputs": [],
   "source": []
  },
  {
   "cell_type": "code",
   "execution_count": null,
   "id": "0021a38e",
   "metadata": {},
   "outputs": [],
   "source": [
    "web3ws.eth.get_transaction_by_block()"
   ]
  },
  {
   "cell_type": "code",
   "execution_count": 4,
   "id": "e0fb86f9",
   "metadata": {},
   "outputs": [],
   "source": [
    "# Ronin Bridge Smart Contract\n",
    "address = '0x1A2a1c938CE3eC39b6D47113c7955bAa9DD454F2'\n",
    "abi = json.loads('[{\"inputs\":[{\"internalType\":\"address\",\"name\":\"_proxyTo\",\"type\":\"address\"},{\"internalType\":\"address\",\"name\":\"_registry\",\"type\":\"address\"}],\"payable\":false,\"stateMutability\":\"nonpayable\",\"type\":\"constructor\"},{\"anonymous\":false,\"inputs\":[{\"indexed\":true,\"internalType\":\"address\",\"name\":\"_oldAdmin\",\"type\":\"address\"},{\"indexed\":true,\"internalType\":\"address\",\"name\":\"_newAdmin\",\"type\":\"address\"}],\"name\":\"AdminChanged\",\"type\":\"event\"},{\"anonymous\":false,\"inputs\":[{\"indexed\":true,\"internalType\":\"address\",\"name\":\"_oldAdmin\",\"type\":\"address\"}],\"name\":\"AdminRemoved\",\"type\":\"event\"},{\"anonymous\":false,\"inputs\":[],\"name\":\"Paused\",\"type\":\"event\"},{\"anonymous\":false,\"inputs\":[{\"indexed\":true,\"internalType\":\"address\",\"name\":\"_new\",\"type\":\"address\"},{\"indexed\":true,\"internalType\":\"address\",\"name\":\"_old\",\"type\":\"address\"}],\"name\":\"ProxyUpdated\",\"type\":\"event\"},{\"anonymous\":false,\"inputs\":[{\"indexed\":true,\"internalType\":\"uint256\",\"name\":\"_depositId\",\"type\":\"uint256\"},{\"indexed\":true,\"internalType\":\"address\",\"name\":\"_owner\",\"type\":\"address\"},{\"indexed\":true,\"internalType\":\"address\",\"name\":\"_tokenAddress\",\"type\":\"address\"},{\"indexed\":false,\"internalType\":\"address\",\"name\":\"_sidechainAddress\",\"type\":\"address\"},{\"indexed\":false,\"internalType\":\"uint32\",\"name\":\"_standard\",\"type\":\"uint32\"},{\"indexed\":false,\"internalType\":\"uint256\",\"name\":\"_tokenNumber\",\"type\":\"uint256\"}],\"name\":\"TokenDeposited\",\"type\":\"event\"},{\"anonymous\":false,\"inputs\":[{\"indexed\":true,\"internalType\":\"uint256\",\"name\":\"_withdrawId\",\"type\":\"uint256\"},{\"indexed\":true,\"internalType\":\"address\",\"name\":\"_owner\",\"type\":\"address\"},{\"indexed\":true,\"internalType\":\"address\",\"name\":\"_tokenAddress\",\"type\":\"address\"},{\"indexed\":false,\"internalType\":\"uint256\",\"name\":\"_tokenNumber\",\"type\":\"uint256\"}],\"name\":\"TokenWithdrew\",\"type\":\"event\"},{\"anonymous\":false,\"inputs\":[],\"name\":\"Unpaused\",\"type\":\"event\"},{\"payable\":true,\"stateMutability\":\"payable\",\"type\":\"fallback\"},{\"constant\":true,\"inputs\":[],\"name\":\"admin\",\"outputs\":[{\"internalType\":\"address\",\"name\":\"\",\"type\":\"address\"}],\"payable\":false,\"stateMutability\":\"view\",\"type\":\"function\"},{\"constant\":false,\"inputs\":[{\"internalType\":\"address\",\"name\":\"_newAdmin\",\"type\":\"address\"}],\"name\":\"changeAdmin\",\"outputs\":[],\"payable\":false,\"stateMutability\":\"nonpayable\",\"type\":\"function\"},{\"constant\":true,\"inputs\":[],\"name\":\"depositCount\",\"outputs\":[{\"internalType\":\"uint256\",\"name\":\"\",\"type\":\"uint256\"}],\"payable\":false,\"stateMutability\":\"view\",\"type\":\"function\"},{\"constant\":true,\"inputs\":[{\"internalType\":\"uint256\",\"name\":\"\",\"type\":\"uint256\"}],\"name\":\"deposits\",\"outputs\":[{\"internalType\":\"address\",\"name\":\"owner\",\"type\":\"address\"},{\"internalType\":\"address\",\"name\":\"tokenAddress\",\"type\":\"address\"},{\"internalType\":\"address\",\"name\":\"sidechainAddress\",\"type\":\"address\"},{\"internalType\":\"uint32\",\"name\":\"standard\",\"type\":\"uint32\"},{\"internalType\":\"uint256\",\"name\":\"tokenNumber\",\"type\":\"uint256\"}],\"payable\":false,\"stateMutability\":\"view\",\"type\":\"function\"},{\"constant\":true,\"inputs\":[],\"name\":\"implementation\",\"outputs\":[{\"internalType\":\"address\",\"name\":\"\",\"type\":\"address\"}],\"payable\":false,\"stateMutability\":\"view\",\"type\":\"function\"},{\"constant\":false,\"inputs\":[],\"name\":\"pause\",\"outputs\":[],\"payable\":false,\"stateMutability\":\"nonpayable\",\"type\":\"function\"},{\"constant\":true,\"inputs\":[],\"name\":\"paused\",\"outputs\":[{\"internalType\":\"bool\",\"name\":\"\",\"type\":\"bool\"}],\"payable\":false,\"stateMutability\":\"view\",\"type\":\"function\"},{\"constant\":true,\"inputs\":[],\"name\":\"proxyType\",\"outputs\":[{\"internalType\":\"uint256\",\"name\":\"\",\"type\":\"uint256\"}],\"payable\":false,\"stateMutability\":\"pure\",\"type\":\"function\"},{\"constant\":true,\"inputs\":[],\"name\":\"registry\",\"outputs\":[{\"internalType\":\"contract Registry\",\"name\":\"\",\"type\":\"address\"}],\"payable\":false,\"stateMutability\":\"view\",\"type\":\"function\"},{\"constant\":false,\"inputs\":[],\"name\":\"removeAdmin\",\"outputs\":[],\"payable\":false,\"stateMutability\":\"nonpayable\",\"type\":\"function\"},{\"constant\":false,\"inputs\":[],\"name\":\"unpause\",\"outputs\":[],\"payable\":false,\"stateMutability\":\"nonpayable\",\"type\":\"function\"},{\"constant\":false,\"inputs\":[{\"internalType\":\"address\",\"name\":\"_newProxyTo\",\"type\":\"address\"}],\"name\":\"updateProxyTo\",\"outputs\":[],\"payable\":false,\"stateMutability\":\"nonpayable\",\"type\":\"function\"},{\"constant\":false,\"inputs\":[{\"internalType\":\"address\",\"name\":\"_registry\",\"type\":\"address\"}],\"name\":\"updateRegistry\",\"outputs\":[],\"payable\":false,\"stateMutability\":\"nonpayable\",\"type\":\"function\"},{\"constant\":true,\"inputs\":[{\"internalType\":\"uint256\",\"name\":\"\",\"type\":\"uint256\"}],\"name\":\"withdrawals\",\"outputs\":[{\"internalType\":\"address\",\"name\":\"owner\",\"type\":\"address\"},{\"internalType\":\"address\",\"name\":\"tokenAddress\",\"type\":\"address\"},{\"internalType\":\"uint256\",\"name\":\"tokenNumber\",\"type\":\"uint256\"}],\"payable\":false,\"stateMutability\":\"view\",\"type\":\"function\"}]')\n",
    "contract = web3.eth.contract(address=address, abi = abi)"
   ]
  },
  {
   "cell_type": "code",
   "execution_count": null,
   "id": "044cd6b6",
   "metadata": {},
   "outputs": [],
   "source": [
    "contract.events.TokenWithdrew.event_name"
   ]
  },
  {
   "cell_type": "code",
   "execution_count": 24,
   "id": "1a59eead",
   "metadata": {},
   "outputs": [],
   "source": [
    "block_data = pd.DataFrame()"
   ]
  },
  {
   "cell_type": "code",
   "execution_count": null,
   "id": "2e9c008e",
   "metadata": {},
   "outputs": [],
   "source": [
    "web3.eth.get_transaction()"
   ]
  },
  {
   "cell_type": "code",
   "execution_count": 66,
   "id": "1203ce60",
   "metadata": {},
   "outputs": [],
   "source": [
    "def handle_event(event, df):\n",
    "    #print(Web3.toJSON(event))\n",
    "    #event_frame = pd.DataFrame.from_dict(event.args)\n",
    "    print(event['args'])\n",
    "    print(f'Movement found in {event.blockNumber}')\n",
    "    print(f'address: {event.address}')\n",
    "    print(f'TransactionHash: {event.transactionHash}')\n",
    "    #print(web3.eth.get_block(event_blockNumber))\n",
    "    print(web3.eth.get_transaction(web3.toHex(event.transactionHash)))\n",
    "    #df = df.append(event_frame)\n",
    "    #print(df)"
   ]
  },
  {
   "cell_type": "code",
   "execution_count": 49,
   "id": "4cc1473d",
   "metadata": {},
   "outputs": [],
   "source": [
    "async def log_loop(event_filter, poll_interval):\n",
    "    for i in range(10):\n",
    "        for TokenDeposited in event_filter_1.get_new_entries():\n",
    "            print('New Deposit')\n",
    "            handle_event(TokenDeposited, block_data)\n",
    "        for TokenWithdrew in event_filter_2.get_new_entries():\n",
    "            print('New Withdrawal')\n",
    "            handle_event(TokenWithdrew, block_data)\n",
    "        \n",
    "        await asyncio.sleep(poll_interval)"
   ]
  },
  {
   "cell_type": "code",
   "execution_count": 64,
   "id": "3a13391a",
   "metadata": {},
   "outputs": [],
   "source": [
    "event_filter_1 = contract.events.TokenDeposited.createFilter(fromBlock='latest')\n",
    "event_filter_2 = contract.events.TokenWithdrew.createFilter(fromBlock='latest')\n",
    "#block_filter = web3.eth.filter('latest')\n",
    "#tx_filter = web3.eth.filter('pending')\n",
    "\n",
    "async def main():\n",
    "    loop = asyncio.get_event_loop()\n",
    "    await (asyncio.gather(log_loop(event_filter,poll_interval=2)))"
   ]
  },
  {
   "cell_type": "code",
   "execution_count": 68,
   "id": "efc663c7",
   "metadata": {
    "scrolled": true
   },
   "outputs": [
    {
     "name": "stdout",
     "output_type": "stream",
     "text": [
      "New Deposit\n",
      "AttributeDict({'_depositId': 1795301, '_owner': '0x97b6EeE50fCcC36212FF74521c2a4F3b3E38f735', '_tokenAddress': '0xC02aaA39b223FE8D0A0e5C4F27eAD9083C756Cc2', '_sidechainAddress': '0xc99a6A985eD2Cac1ef41640596C5A5f9F4E19Ef5', '_standard': 20, '_tokenNumber': 410000000000000000})\n",
      "Movement found in 13451703\n",
      "address: 0x1A2a1c938CE3eC39b6D47113c7955bAa9DD454F2\n",
      "TransactionHash: b'\\xa6\\x06\\x96@G\\x17\\x9a\\x89\\xb1\\x13hN*\\xcc*\\x1e\\x16\\xeb\\x1d\\xe8#o\\xbfTAOvk\\x12\\xa3\\x97\\x11'\n",
      "AttributeDict({'accessList': [], 'blockHash': HexBytes('0xc425011cd1c2cfeb8bcfb90376f5bd6404ccff4c039d52cea04fb10cba0269b7'), 'blockNumber': 13451703, 'chainId': '0x1', 'from': '0x46C16171932f651C5AEf4cC98A3D86D4eDD6f569', 'gas': 215887, 'gasPrice': 60044880662, 'hash': HexBytes('0xa606964047179a89b113684e2acc2a1e16eb1de8236fbf54414f766b12a39711'), 'input': '0xeee3f07a00000000000000000000000097b6eee50fccc36212ff74521c2a4f3b3e38f735', 'maxFeePerGas': 80147416820, 'maxPriorityFeePerGas': 1940000000, 'nonce': 3, 'r': HexBytes('0x4ce132b645bbab37eb5c3293a880f9a9d01c09525df30c0094b40aca339c5a7f'), 's': HexBytes('0x1e28e008b2d5d6864ad929f32599ec6741c8f0bdcb4cbb68f2416a68894d337f'), 'to': '0x1A2a1c938CE3eC39b6D47113c7955bAa9DD454F2', 'transactionIndex': 202, 'type': '0x2', 'v': 0, 'value': 410000000000000000})\n",
      "New Deposit\n",
      "AttributeDict({'_depositId': 1795302, '_owner': '0xDbcaE517AD121ca4d3D4c1e39AE6511E15517efD', '_tokenAddress': '0xC02aaA39b223FE8D0A0e5C4F27eAD9083C756Cc2', '_sidechainAddress': '0xc99a6A985eD2Cac1ef41640596C5A5f9F4E19Ef5', '_standard': 20, '_tokenNumber': 250000000000000000})\n",
      "Movement found in 13451703\n",
      "address: 0x1A2a1c938CE3eC39b6D47113c7955bAa9DD454F2\n",
      "TransactionHash: b'EXf\\xa2B\\xb6t\\xd5\\xaf\\xe1\\xc1\\x8b\\x03\\r\\xf5*0\\x81\\xe2\\xf7\\xe6\\x10\\xce\\xf5\\xe9\\xe9\\xffxH\\xd2\\xd0\\xce'\n",
      "AttributeDict({'accessList': [], 'blockHash': HexBytes('0xc425011cd1c2cfeb8bcfb90376f5bd6404ccff4c039d52cea04fb10cba0269b7'), 'blockNumber': 13451703, 'chainId': '0x1', 'from': '0x85a0ddDe7B950C702C2918BEB65cA6E26d0d2cae', 'gas': 215887, 'gasPrice': 60044880662, 'hash': HexBytes('0x455866a242b674d5afe1c18b030df52a3081e2f7e610cef5e9e9ff7848d2d0ce'), 'input': '0xeee3f07a000000000000000000000000dbcae517ad121ca4d3d4c1e39ae6511e15517efd', 'maxFeePerGas': 70371489718, 'maxPriorityFeePerGas': 1940000000, 'nonce': 0, 'r': HexBytes('0x30879fcd16093528e434fb0a7d709a11b511a480c9639acd415ac9be54b7e609'), 's': HexBytes('0x7e42556767061cb5c3bab0bfa0204ee07b83bd537faf23c2d2cf7d40af02d517'), 'to': '0x1A2a1c938CE3eC39b6D47113c7955bAa9DD454F2', 'transactionIndex': 206, 'type': '0x2', 'v': 1, 'value': 250000000000000000})\n",
      "New Deposit\n",
      "AttributeDict({'_depositId': 1795303, '_owner': '0xa56279FA2236ACB833F90066BCB5FFc8379B0554', '_tokenAddress': '0xC02aaA39b223FE8D0A0e5C4F27eAD9083C756Cc2', '_sidechainAddress': '0xc99a6A985eD2Cac1ef41640596C5A5f9F4E19Ef5', '_standard': 20, '_tokenNumber': 200000000000000000})\n",
      "Movement found in 13451703\n",
      "address: 0x1A2a1c938CE3eC39b6D47113c7955bAa9DD454F2\n",
      "TransactionHash: b'\\x8e\\n/]>I\\xb8\\xf8\\x06jk\\xa3\\x83\\x8bM\\xe3\\x8b,\\xe4\\x9e\\x1bh\\x9c\\xf8\\x19wx6\\xce\\xfaCt'\n",
      "AttributeDict({'accessList': [], 'blockHash': HexBytes('0xc425011cd1c2cfeb8bcfb90376f5bd6404ccff4c039d52cea04fb10cba0269b7'), 'blockNumber': 13451703, 'chainId': '0x1', 'from': '0xE1448E3bB08432F6672f44039fD426900CFCcb2A', 'gas': 215875, 'gasPrice': 59604880662, 'hash': HexBytes('0x8e0a2f5d3e49b8f8066a6ba3838b4de38b2ce49e1b689cf819777836cefa4374'), 'input': '0xeee3f07a000000000000000000000000a56279fa2236acb833f90066bcb5ffc8379b0554', 'maxFeePerGas': 60098239269, 'maxPriorityFeePerGas': 1500000000, 'nonce': 0, 'r': HexBytes('0x0288bf3cb9effba7120e153e272c2236bbfc8f5fb13e752dda09ad3e98558e89'), 's': HexBytes('0x74447c25c3cf4043ac7d806859d0dc487133ae27103ba2b91d66eb16ae34819a'), 'to': '0x1A2a1c938CE3eC39b6D47113c7955bAa9DD454F2', 'transactionIndex': 237, 'type': '0x2', 'v': 1, 'value': 200000000000000000})\n",
      "New Deposit\n",
      "AttributeDict({'_depositId': 1795304, '_owner': '0xb6D844cdCB71Ca8102A849532e842a0D13B47527', '_tokenAddress': '0xC02aaA39b223FE8D0A0e5C4F27eAD9083C756Cc2', '_sidechainAddress': '0xc99a6A985eD2Cac1ef41640596C5A5f9F4E19Ef5', '_standard': 20, '_tokenNumber': 21000000000000000})\n",
      "Movement found in 13451703\n",
      "address: 0x1A2a1c938CE3eC39b6D47113c7955bAa9DD454F2\n",
      "TransactionHash: b'F\\xde\\xaa\\r[E\\xc4T;\\x07D\\x05d\\xe4\\xf3\\x0f8bp\\xd8\\xdbL\\xd0\\xf8+\\x1b\\xcf\\xc9?\\xbf\\xca\\xb7'\n",
      "AttributeDict({'accessList': [], 'blockHash': HexBytes('0xc425011cd1c2cfeb8bcfb90376f5bd6404ccff4c039d52cea04fb10cba0269b7'), 'blockNumber': 13451703, 'chainId': '0x1', 'from': '0x6ae983470c99211cb1210B8d180F8e50d69571cF', 'gas': 215887, 'gasPrice': 59604880662, 'hash': HexBytes('0x46deaa0d5b45c4543b07440564e4f30f386270d8db4cd0f82b1bcfc93fbfcab7'), 'input': '0xeee3f07a000000000000000000000000b6d844cdcb71ca8102a849532e842a0d13b47527', 'maxFeePerGas': 60098239269, 'maxPriorityFeePerGas': 1500000000, 'nonce': 2, 'r': HexBytes('0x9f77553075743ffaf073abd8b28f4eb6e7160bc2a83e7379de268c946b2b5f70'), 's': HexBytes('0x46396b2414dfa1c4dd5555c6bccfbcfa7fb29356df054159ffd2e568bb1998ca'), 'to': '0x1A2a1c938CE3eC39b6D47113c7955bAa9DD454F2', 'transactionIndex': 240, 'type': '0x2', 'v': 0, 'value': 21000000000000000})\n",
      "New Deposit\n",
      "AttributeDict({'_depositId': 1795305, '_owner': '0xCF89060D28bDe5d4668d883556A7Cdada57Db10c', '_tokenAddress': '0xC02aaA39b223FE8D0A0e5C4F27eAD9083C756Cc2', '_sidechainAddress': '0xc99a6A985eD2Cac1ef41640596C5A5f9F4E19Ef5', '_standard': 20, '_tokenNumber': 51000000000000000})\n",
      "Movement found in 13451703\n",
      "address: 0x1A2a1c938CE3eC39b6D47113c7955bAa9DD454F2\n",
      "TransactionHash: b'\\xcb\\xec\\xf4\\x07\\xbc\\xf3\\x8b\\xa4\\nq\\x0c_&\\\\\\xe7\\xe6[\\xca\\xf4\\x94\\x0bD\\x8b&\\xfb\\xef\\xb0\\xcc\\xa5O\\xbb\\xa9'\n",
      "AttributeDict({'accessList': [], 'blockHash': HexBytes('0xc425011cd1c2cfeb8bcfb90376f5bd6404ccff4c039d52cea04fb10cba0269b7'), 'blockNumber': 13451703, 'chainId': '0x1', 'from': '0xE154CC107fA2053041D4de22F203f903fBf3c64C', 'gas': 215887, 'gasPrice': 59604880662, 'hash': HexBytes('0xcbecf407bcf38ba40a710c5f265ce7e65bcaf4940b448b26fbefb0cca54fbba9'), 'input': '0xeee3f07a000000000000000000000000cf89060d28bde5d4668d883556a7cdada57db10c', 'maxFeePerGas': 60098239269, 'maxPriorityFeePerGas': 1500000000, 'nonce': 12, 'r': HexBytes('0xf680b1c07912babd02049b709d200e12416a0a33b2070a851059b049eab15f01'), 's': HexBytes('0x09122c8f0b37bc0037c929fd86f1cbb9831857370a7e3ad0af814e5da0119892'), 'to': '0x1A2a1c938CE3eC39b6D47113c7955bAa9DD454F2', 'transactionIndex': 250, 'type': '0x2', 'v': 1, 'value': 51000000000000000})\n",
      "New Deposit\n",
      "AttributeDict({'_depositId': 1795306, '_owner': '0xCFFdb48AEc6B28B491981e9580d794D8bc43CC53', '_tokenAddress': '0xC02aaA39b223FE8D0A0e5C4F27eAD9083C756Cc2', '_sidechainAddress': '0xc99a6A985eD2Cac1ef41640596C5A5f9F4E19Ef5', '_standard': 20, '_tokenNumber': 33000000000000000})\n",
      "Movement found in 13451705\n",
      "address: 0x1A2a1c938CE3eC39b6D47113c7955bAa9DD454F2\n",
      "TransactionHash: b'_\"\\xe4y\\xb9\"E/7\\xd5VX\\xfb\\xb1\\xf8\\xa6\\xd0\\xdd\\x08\\x1f\\x17\\xc9\\xd1\\x8cn\\x1b\\xce\\xf0\\xda-a\"'\n",
      "AttributeDict({'blockHash': HexBytes('0x7328bbf1d2fc6fb915e59d9afe76d4c86f0d36db4b34c9f46cf749db937f9049'), 'blockNumber': 13451705, 'from': '0x3F0561EcdbD3959821dE8dcDB26272cA641BdbF0', 'gas': 215887, 'gasPrice': 66813303561, 'hash': HexBytes('0x5f22e479b922452f37d55658fbb1f8a6d0dd081f17c9d18c6e1bcef0da2d6122'), 'input': '0xeee3f07a000000000000000000000000cffdb48aec6b28b491981e9580d794d8bc43cc53', 'nonce': 85, 'r': HexBytes('0x416dc9ef144def69db69a512f6b376d020785335531ed3931c16a46b2f7929f7'), 's': HexBytes('0x60e73d04c82009597fa4f47bcb575cf7b4bee38ea1e82bc59f2ef761a63fe2ad'), 'to': '0x1A2a1c938CE3eC39b6D47113c7955bAa9DD454F2', 'transactionIndex': 76, 'type': '0x0', 'v': 37, 'value': 33000000000000000})\n",
      "New Deposit\n",
      "AttributeDict({'_depositId': 1795307, '_owner': '0x390AdDF498D0fB20E3CA22f91aeA871350e37224', '_tokenAddress': '0xC02aaA39b223FE8D0A0e5C4F27eAD9083C756Cc2', '_sidechainAddress': '0xc99a6A985eD2Cac1ef41640596C5A5f9F4E19Ef5', '_standard': 20, '_tokenNumber': 411505700000000000})\n",
      "Movement found in 13451709\n",
      "address: 0x1A2a1c938CE3eC39b6D47113c7955bAa9DD454F2\n",
      "TransactionHash: b'mR\\x1d\\xf5]\\x07r\\xb60\\x92\\x7f\\xb4\\x1a\\x8b\\xe1P(\\xeeMA\\xd0\\xf2.7\\xa5\\x84\\x13Wy\\xaf\\xa5\\xd7'\n",
      "AttributeDict({'accessList': [], 'blockHash': HexBytes('0x700baa5c36bdfd8846f9eb65411464b791fd0f47fe363815139475dfdd593616'), 'blockNumber': 13451709, 'chainId': '0x1', 'from': '0x1b19A7561BeBC9a784ACA10777D651Ee172fe2eA', 'gas': 215887, 'gasPrice': 54335864974, 'hash': HexBytes('0x6d521df55d0772b630927fb41a8be15028ee4d41d0f22e37a584135779afa5d7'), 'input': '0xeee3f07a000000000000000000000000390addf498d0fb20e3ca22f91aea871350e37224', 'maxFeePerGas': 63748476017, 'maxPriorityFeePerGas': 1940000000, 'nonce': 5, 'r': HexBytes('0xbd6dfb85378fdb00459a544b71f74a7974ecc287ef1e2b65854801f3e0698408'), 's': HexBytes('0x08ed845121efa50b026c1961c1a1023153f310e70d0e73e41ada60b43619b9fd'), 'to': '0x1A2a1c938CE3eC39b6D47113c7955bAa9DD454F2', 'transactionIndex': 190, 'type': '0x2', 'v': 0, 'value': 411505700000000000})\n",
      "New Deposit\n",
      "AttributeDict({'_depositId': 1795308, '_owner': '0x9c58a7A4Efc3DC08a63A3aE349Eb47eCCa112CF8', '_tokenAddress': '0xC02aaA39b223FE8D0A0e5C4F27eAD9083C756Cc2', '_sidechainAddress': '0xc99a6A985eD2Cac1ef41640596C5A5f9F4E19Ef5', '_standard': 20, '_tokenNumber': 110000000000000000})\n",
      "Movement found in 13451709\n",
      "address: 0x1A2a1c938CE3eC39b6D47113c7955bAa9DD454F2\n",
      "TransactionHash: b'\\xe6\\x98\\x0f\"\\xe8\\x12G\\xa5\\x1b\\xf4\\xd7+\\x9b\\xb5\\xe6(\\x9f}\\xe7\\xe3-\\xdf9{`\\xab\\xf96_\\xbd\\x9b\\xd6'\n"
     ]
    },
    {
     "name": "stdout",
     "output_type": "stream",
     "text": [
      "AttributeDict({'accessList': [], 'blockHash': HexBytes('0x700baa5c36bdfd8846f9eb65411464b791fd0f47fe363815139475dfdd593616'), 'blockNumber': 13451709, 'chainId': '0x1', 'from': '0x6470Ad27331a355F7C2E3B8c1aAAcC84F026B422', 'gas': 215887, 'gasPrice': 53895864974, 'hash': HexBytes('0xe6980f22e81247a51bf4d72b9bb5e6289f7de7e32ddf397b60abf9365fbd9bd6'), 'input': '0xeee3f07a0000000000000000000000009c58a7a4efc3dc08a63a3ae349eb47ecca112cf8', 'maxFeePerGas': 56446339465, 'maxPriorityFeePerGas': 1500000000, 'nonce': 5, 'r': HexBytes('0xaf86a93e28a86efafcbeeee524609db3aa40608a086140010ddbfa6238514624'), 's': HexBytes('0x2e6062c8198565e181828ab2580b43702ca51ab8487f09632192747b3a4ec6c9'), 'to': '0x1A2a1c938CE3eC39b6D47113c7955bAa9DD454F2', 'transactionIndex': 255, 'type': '0x2', 'v': 1, 'value': 110000000000000000})\n",
      "New Deposit\n",
      "AttributeDict({'_depositId': 1795309, '_owner': '0x49F9627dB8Ca38590b84cd76589da3CdF356ee62', '_tokenAddress': '0xC02aaA39b223FE8D0A0e5C4F27eAD9083C756Cc2', '_sidechainAddress': '0xc99a6A985eD2Cac1ef41640596C5A5f9F4E19Ef5', '_standard': 20, '_tokenNumber': 73800000000000000})\n",
      "Movement found in 13451711\n",
      "address: 0x1A2a1c938CE3eC39b6D47113c7955bAa9DD454F2\n",
      "TransactionHash: b'\\x1d\\x9b\\xaa\\xe2E\\xa0\\x04\\x8c\\x92\\xb6\\xa9L6\\x83\\xce\\xfb\\xc0\\x8e\\x9b^t\\x16\\n\\x12\\x86\\xe1\\xa2Dy\\x94\\x00@'\n",
      "AttributeDict({'accessList': [], 'blockHash': HexBytes('0x9b95dc5c05fa2d6cfc7fab374597d828c609ff0c9be15d360544dc9871fdc6a0'), 'blockNumber': 13451711, 'chainId': '0x1', 'from': '0xF4f73D0Adb0bfc1A0d0E5307Ac05607816d3984f', 'gas': 215887, 'gasPrice': 55050862007, 'hash': HexBytes('0x1d9baae245a0048c92b6a94c3683cefbc08e9b5e74160a1286e1a24479940040'), 'input': '0xeee3f07a00000000000000000000000049f9627db8ca38590b84cd76589da3cdf356ee62', 'maxFeePerGas': 56446339465, 'maxPriorityFeePerGas': 1500000000, 'nonce': 3, 'r': HexBytes('0xb41daa34dff52bbb1e25ef571e5c691da8d29b0c7551a8fd79b4aab87d1c3891'), 's': HexBytes('0x601ee3f1c93865bb51b6bf6cce1067b3653b7e134f310dd6db876dc6660b3a62'), 'to': '0x1A2a1c938CE3eC39b6D47113c7955bAa9DD454F2', 'transactionIndex': 48, 'type': '0x2', 'v': 1, 'value': 73800000000000000})\n",
      "New Deposit\n",
      "AttributeDict({'_depositId': 1795310, '_owner': '0x1435Dc5A025e0005ccF859ed0B944267E87878e2', '_tokenAddress': '0xC02aaA39b223FE8D0A0e5C4F27eAD9083C756Cc2', '_sidechainAddress': '0xc99a6A985eD2Cac1ef41640596C5A5f9F4E19Ef5', '_standard': 20, '_tokenNumber': 16000000000000000})\n",
      "Movement found in 13451711\n",
      "address: 0x1A2a1c938CE3eC39b6D47113c7955bAa9DD454F2\n",
      "TransactionHash: b'=_\\xee\\xba\\xad)\\x11\\x1e\\xbeWn]B\\xf5\\x9eC\\xe1\\xf6\\xfaE\\xd7\\\\Y\\x1d\\xef\\x86\\xe49^\\xd5\\x87\"'\n",
      "AttributeDict({'accessList': [], 'blockHash': HexBytes('0x9b95dc5c05fa2d6cfc7fab374597d828c609ff0c9be15d360544dc9871fdc6a0'), 'blockNumber': 13451711, 'chainId': '0x1', 'from': '0x7239F1FC523b06bd1f549ad185F3159Db7613ef7', 'gas': 215875, 'gasPrice': 55050862007, 'hash': HexBytes('0x3d5feebaad29111ebe576e5d42f59e43e1f6fa45d75c591def86e4395ed58722'), 'input': '0xeee3f07a0000000000000000000000001435dc5a025e0005ccf859ed0b944267e87878e2', 'maxFeePerGas': 56446339465, 'maxPriorityFeePerGas': 1500000000, 'nonce': 1, 'r': HexBytes('0x690a002189369bd5ed9da61b94185b564fd2e08cc2f639e658d5f2b305c7b531'), 's': HexBytes('0x58468a4189173f999df87ee866fefa060033685c1e048d10af94fefdd88b9edd'), 'to': '0x1A2a1c938CE3eC39b6D47113c7955bAa9DD454F2', 'transactionIndex': 109, 'type': '0x2', 'v': 0, 'value': 16000000000000000})\n",
      "New Deposit\n",
      "AttributeDict({'_depositId': 1795311, '_owner': '0xDC558da38A3cbE9559ec3e31Bb91D3C223d074e4', '_tokenAddress': '0xC02aaA39b223FE8D0A0e5C4F27eAD9083C756Cc2', '_sidechainAddress': '0xc99a6A985eD2Cac1ef41640596C5A5f9F4E19Ef5', '_standard': 20, '_tokenNumber': 158000000000000000})\n",
      "Movement found in 13451711\n",
      "address: 0x1A2a1c938CE3eC39b6D47113c7955bAa9DD454F2\n",
      "TransactionHash: b\"Z\\x82\\x1a\\xeem\\x16h\\xbb$'\\xbf\\x13\\x90\\x10f\\x84\\x84\\xad.\\xb6\\x8b}\\\\4;Y\\xea\\xab#F\\xcd\\xce\"\n",
      "AttributeDict({'accessList': [], 'blockHash': HexBytes('0x9b95dc5c05fa2d6cfc7fab374597d828c609ff0c9be15d360544dc9871fdc6a0'), 'blockNumber': 13451711, 'chainId': '0x1', 'from': '0x43F00018BAfF4a8384B3316f92dF22eaAAf009C2', 'gas': 215887, 'gasPrice': 55050862007, 'hash': HexBytes('0x5a821aee6d1668bb2427bf139010668484ad2eb68b7d5c343b59eaab2346cdce'), 'input': '0xeee3f07a000000000000000000000000dc558da38a3cbe9559ec3e31bb91d3c223d074e4', 'maxFeePerGas': 56446339465, 'maxPriorityFeePerGas': 1500000000, 'nonce': 2, 'r': HexBytes('0x9fe648ce60c603706cd86ff1d9fc4c301a3e2050d8d4ed41b8e00c700220a6e7'), 's': HexBytes('0x4ad245e240b3bc87efa52acc8367d56aa28709186acc9ef49cf665b0b6283eb6'), 'to': '0x1A2a1c938CE3eC39b6D47113c7955bAa9DD454F2', 'transactionIndex': 158, 'type': '0x2', 'v': 0, 'value': 158000000000000000})\n",
      "New Deposit\n",
      "AttributeDict({'_depositId': 1795312, '_owner': '0xE9c46848a00C66eE09E9411DE405A2FbD6CB70e6', '_tokenAddress': '0xC02aaA39b223FE8D0A0e5C4F27eAD9083C756Cc2', '_sidechainAddress': '0xc99a6A985eD2Cac1ef41640596C5A5f9F4E19Ef5', '_standard': 20, '_tokenNumber': 57078197766100440})\n",
      "Movement found in 13451711\n",
      "address: 0x1A2a1c938CE3eC39b6D47113c7955bAa9DD454F2\n",
      "TransactionHash: b'{\\xd0 \\xde}\":\\xa90\\x02!\\xac\\xb1\\x0c\\xf7\\x9b\\xe8G\\xb3w0K7\\xd8\\x93H\\t@\\x07\\x05\\x83\\x9f'\n",
      "AttributeDict({'accessList': [], 'blockHash': HexBytes('0x9b95dc5c05fa2d6cfc7fab374597d828c609ff0c9be15d360544dc9871fdc6a0'), 'blockNumber': 13451711, 'chainId': '0x1', 'from': '0x94838188BF1aaD99D448b72ED8083c8185679981', 'gas': 215887, 'gasPrice': 55050862007, 'hash': HexBytes('0x7bd020de7d223aa9300221acb10cf79be847b377304b37d8934809400705839f'), 'input': '0xeee3f07a000000000000000000000000e9c46848a00c66ee09e9411de405a2fbd6cb70e6', 'maxFeePerGas': 56446339465, 'maxPriorityFeePerGas': 1500000000, 'nonce': 35, 'r': HexBytes('0xf4ee1889ada90cbfeb8c8aea474de20ddc446eb4ebf09bc553b10341b6350fbb'), 's': HexBytes('0x3808ebfb1aac3341ebf7b40c8926d0377077ed5becb706beadc6c611b93bdf95'), 'to': '0x1A2a1c938CE3eC39b6D47113c7955bAa9DD454F2', 'transactionIndex': 176, 'type': '0x2', 'v': 0, 'value': 57078197766100440})\n",
      "New Deposit\n",
      "AttributeDict({'_depositId': 1795313, '_owner': '0x7BAe25e0d2566Fbc3Df56E2207d1A0fd1b3aCa7b', '_tokenAddress': '0xC02aaA39b223FE8D0A0e5C4F27eAD9083C756Cc2', '_sidechainAddress': '0xc99a6A985eD2Cac1ef41640596C5A5f9F4E19Ef5', '_standard': 20, '_tokenNumber': 350000000000000000})\n",
      "Movement found in 13451711\n",
      "address: 0x1A2a1c938CE3eC39b6D47113c7955bAa9DD454F2\n",
      "TransactionHash: b'c#2\\xf9.\\x88\\x85\\xd4\\xfd\\x15!L\\xdd\\xbel\\x13\\xf0\\x84\\x9f0\\xb4*9\\tf\\xc8X\\x1cDK\\xfa\\xd9'\n",
      "AttributeDict({'accessList': [], 'blockHash': HexBytes('0x9b95dc5c05fa2d6cfc7fab374597d828c609ff0c9be15d360544dc9871fdc6a0'), 'blockNumber': 13451711, 'chainId': '0x1', 'from': '0x6Ee306FBE664e0e13e9c09ECa083940F7dbdFA91', 'gas': 215887, 'gasPrice': 55050862007, 'hash': HexBytes('0x632332f92e8885d4fd15214cddbe6c13f0849f30b42a390966c8581c444bfad9'), 'input': '0xeee3f07a0000000000000000000000007bae25e0d2566fbc3df56e2207d1a0fd1b3aca7b', 'maxFeePerGas': 56446339465, 'maxPriorityFeePerGas': 1500000000, 'nonce': 43, 'r': HexBytes('0xebbfb18b1c93c7853d6c3ad4d8ae16a742835a95f46e1f374c4edc8d502f6819'), 's': HexBytes('0x8bdc16ee444e4ed0668a081bb3b74e6e9ced8e3947f933c8cdfbef7c20b042'), 'to': '0x1A2a1c938CE3eC39b6D47113c7955bAa9DD454F2', 'transactionIndex': 192, 'type': '0x2', 'v': 0, 'value': 350000000000000000})\n",
      "New Deposit\n",
      "AttributeDict({'_depositId': 1795314, '_owner': '0xf7aC983C9016b69C6215491b35eeAeD47c483eAb', '_tokenAddress': '0xC02aaA39b223FE8D0A0e5C4F27eAD9083C756Cc2', '_sidechainAddress': '0xc99a6A985eD2Cac1ef41640596C5A5f9F4E19Ef5', '_standard': 20, '_tokenNumber': 232473888366017666})\n",
      "Movement found in 13451711\n",
      "address: 0x1A2a1c938CE3eC39b6D47113c7955bAa9DD454F2\n",
      "TransactionHash: b'\\xb1\\xbc\\xc5\\xa6)pF\\xf4?g\\\\\\xd1\\xb4\\\\W:\\x11\\x83\\x1dnP\\x11p\\xf0\\x8f\\xd7\\xc7\\x8f[\\x89\\xc7\\xa4'\n",
      "AttributeDict({'accessList': [], 'blockHash': HexBytes('0x9b95dc5c05fa2d6cfc7fab374597d828c609ff0c9be15d360544dc9871fdc6a0'), 'blockNumber': 13451711, 'chainId': '0x1', 'from': '0xe5771001467F9A06C77367F4d0729c7A76777Eca', 'gas': 215887, 'gasPrice': 55050862007, 'hash': HexBytes('0xb1bcc5a6297046f43f675cd1b45c573a11831d6e501170f08fd7c78f5b89c7a4'), 'input': '0xeee3f07a000000000000000000000000f7ac983c9016b69c6215491b35eeaed47c483eab', 'maxFeePerGas': 56446339465, 'maxPriorityFeePerGas': 1500000000, 'nonce': 7, 'r': HexBytes('0xd88bb11d46e0adb6518a855ba95c2d2f496971c860d37e364c64b006a667408d'), 's': HexBytes('0x1d26d14f24751e038f1afffd81b9312f56bba9278b11d9f4c40e14f99bd90ab1'), 'to': '0x1A2a1c938CE3eC39b6D47113c7955bAa9DD454F2', 'transactionIndex': 194, 'type': '0x2', 'v': 1, 'value': 232473888366017666})\n",
      "New Deposit\n",
      "AttributeDict({'_depositId': 1795315, '_owner': '0xcAa24E497530eEdaaD7A19E5AC02e49CE5E8c4a4', '_tokenAddress': '0xC02aaA39b223FE8D0A0e5C4F27eAD9083C756Cc2', '_sidechainAddress': '0xc99a6A985eD2Cac1ef41640596C5A5f9F4E19Ef5', '_standard': 20, '_tokenNumber': 737000000000000000})\n",
      "Movement found in 13451712\n",
      "address: 0x1A2a1c938CE3eC39b6D47113c7955bAa9DD454F2\n",
      "TransactionHash: b'\\xacZ\\x86p.k\\x18\\xa6\\x82F1\\x10\\xbc\\xa1\\xfe\\xd3\\xc3\\x1c\\xbd\\xa7\\xb2\\xde^\\xf0\\xa4\\xdb\\xc8\\x8c\\x1b;\\xbb\\xb0'\n",
      "AttributeDict({'accessList': [], 'blockHash': HexBytes('0x1ad4d84a77dc83861dbdff961b7809da805c439c6a9ef5dae3161bf063d9b780'), 'blockNumber': 13451712, 'chainId': '0x1', 'from': '0xab8e965A3C876B14506713CdcA733CfB58bbf808', 'gas': 215887, 'gasPrice': 61738189009, 'hash': HexBytes('0xac5a86702e6b18a682463110bca1fed3c31cbda7b2de5ef0a4dbc88c1b3bbbb0'), 'input': '0xeee3f07a000000000000000000000000caa24e497530eedaad7a19e5ac02e49ce5e8c4a4', 'maxFeePerGas': 86668117249, 'maxPriorityFeePerGas': 1500000000, 'nonce': 7, 'r': HexBytes('0x08cbe4a36bad87274b0a8e959424a4ffaadc8edca63803cf8aa1f79ea17f19e5'), 's': HexBytes('0x26458de6bc82a48b7381a5a86d13f4951ba7d60e6d7a639185437006516f4819'), 'to': '0x1A2a1c938CE3eC39b6D47113c7955bAa9DD454F2', 'transactionIndex': 93, 'type': '0x2', 'v': 1, 'value': 737000000000000000})\n",
      "New Deposit\n",
      "AttributeDict({'_depositId': 1795316, '_owner': '0x76610e99199a121290d229C01Fc0bb39Db3340B9', '_tokenAddress': '0xC02aaA39b223FE8D0A0e5C4F27eAD9083C756Cc2', '_sidechainAddress': '0xc99a6A985eD2Cac1ef41640596C5A5f9F4E19Ef5', '_standard': 20, '_tokenNumber': 254000000000000000})\n",
      "Movement found in 13451712\n",
      "address: 0x1A2a1c938CE3eC39b6D47113c7955bAa9DD454F2\n",
      "TransactionHash: b'~\\x14\\xe8v\\x1b\\xe1\\xc9]\\x10\\xd8s.\\tb\\xa1|1\\xbe\\xba\\x0e\\x7fJ\\x0e\\x02%\\xed\\xbdO\\x90\\x81<G'\n"
     ]
    },
    {
     "name": "stdout",
     "output_type": "stream",
     "text": [
      "AttributeDict({'accessList': [], 'blockHash': HexBytes('0x1ad4d84a77dc83861dbdff961b7809da805c439c6a9ef5dae3161bf063d9b780'), 'blockNumber': 13451712, 'chainId': '0x1', 'from': '0x7c02209Fc1E335060E381c0c64d88Ef1CeFAd5aa', 'gas': 215887, 'gasPrice': 61738189009, 'hash': HexBytes('0x7e14e8761be1c95d10d8732e0962a17c31beba0e7f4a0e0225edbd4f90813c47'), 'input': '0xeee3f07a00000000000000000000000076610e99199a121290d229c01fc0bb39db3340b9', 'maxFeePerGas': 75899110935, 'maxPriorityFeePerGas': 1500000000, 'nonce': 0, 'r': HexBytes('0x5fa210bbcc2cd2adf470bacb55f0c9fa35d39b3acbe58088378932903809c3c8'), 's': HexBytes('0x7bb2edda66372264b97db07034b63a4f357a8476a94bfea79450b02abb018e39'), 'to': '0x1A2a1c938CE3eC39b6D47113c7955bAa9DD454F2', 'transactionIndex': 116, 'type': '0x2', 'v': 1, 'value': 254000000000000000})\n",
      "New Withdrawal\n",
      "AttributeDict({'_withdrawId': 960923, '_owner': '0xA6c20acbC2960E7EDf225A6DD0C2A64Cc2C94A05', '_tokenAddress': '0xC02aaA39b223FE8D0A0e5C4F27eAD9083C756Cc2', '_tokenNumber': 1400000000000000000})\n",
      "Movement found in 13451704\n",
      "address: 0x1A2a1c938CE3eC39b6D47113c7955bAa9DD454F2\n",
      "TransactionHash: b'Og\\xbc\\xe4+\\xce\\x9e/\\xb5\\xaeSW\"\\x11\\xf9\\x95\\x8a\\x11\\xb3\\x8ch\\x02\\xa7\\xeb\\xa4\\xee\\xbe\\xc3\\xd4;\\x8d\\x16'\n",
      "AttributeDict({'accessList': [], 'blockHash': HexBytes('0xe878203ff7534adbddfb41689068f31f71916b85379342776379b9e8985300aa'), 'blockNumber': 13451704, 'chainId': '0x1', 'from': '0xA6c20acbC2960E7EDf225A6DD0C2A64Cc2C94A05', 'gas': 268200, 'gasPrice': 66013939368, 'hash': HexBytes('0x4f67bce42bce9e2fb5ae53572211f9958a11b38c6802a7eba4eebec3d43b8d16'), 'input': '0x993e1c4200000000000000000000000000000000000000000000000000000000000ea99b000000000000000000000000a6c20acbc2960e7edf225a6dd0c2a64cc2c94a05000000000000000000000000c02aaa39b223fe8d0a0e5c4f27ead9083c756cc2000000000000000000000000000000000000000000000000136dcc951d8c000000000000000000000000000000000000000000000000000000000000000000a000000000000000000000000000000000000000000000000000000000000001ce013efcfcde9af205abc6def25fe6b4ae4201b0a3ab6691fefe07f620c3b3ed90d7683117c9a21d5d768f4877505465fe2c9f74b5a405d1d7f8d84f453c5014d2a11b01e2e6da837ea0efe947759da09c2904788c7c58163885ba558e46c6a1fd20f2bf1c87825a393cbeece5cab5e9462b15e54c4b10e5ee6e98225062277c6dad1f2f1c011e9f5015993ceb772963ea72f49d425a62ece9589fc82523a8ce50d2b50a295e5eb0b5c410f1ee24f7d56220235abb16298a879e4e23124193e7d66336f1d9a91b014475c3f823d6c49c2b64c97244861663b5784cba0548caa82bf2f7b48d9bac2b567ee6505cb827aa87622638dbf213cca609a666487348371405bf034a731ceb1b018c5ec496ed2c35fc895fa0b9a954fdd609f07370721e999f95b193a5e1bce56e3a728084d3f7808e0385d653960a080672d84dabf251d7469849ee3451d134d41c01bf79d571133a93e1359e28078572bd5dff8884e5f8945debc6ff2460233ab69758e8e46c0f75aa305f5f58babda5e90e346dba0090ef85db94f5029e4660f9971b012cc8654f05a78e5dacb3e3e5eee9a97451fd6660709e3d203702983d61972d7a619ff00ea914b109fbdd4da5ca910f2ca894c637f6f061bf4c237f67612dafa71b000000000000000000000000000000000000', 'maxFeePerGas': 70371489718, 'maxPriorityFeePerGas': 1940000000, 'nonce': 448, 'r': HexBytes('0x4b47da26791e432dbc8135556667aec684474ce33a39e4c0154d93d774e9a1a9'), 's': HexBytes('0x13e400fa0b9cfb3993e9e10021710baeac9e24ff4c926710b292b5c8f9487e1e'), 'to': '0x1A2a1c938CE3eC39b6D47113c7955bAa9DD454F2', 'transactionIndex': 42, 'type': '0x2', 'v': 1, 'value': 0})\n",
      "New Withdrawal\n",
      "AttributeDict({'_withdrawId': 960733, '_owner': '0x251dFb9B69bd450Cd87A80E9E59FEb9b1Ad972B1', '_tokenAddress': '0xC02aaA39b223FE8D0A0e5C4F27eAD9083C756Cc2', '_tokenNumber': 35084383333333332})\n",
      "Movement found in 13451709\n",
      "address: 0x1A2a1c938CE3eC39b6D47113c7955bAa9DD454F2\n",
      "TransactionHash: b'\\x1c\\xae\\xe4\\x0ba\\x1b\\xb1\\xd3\\xf6\\xb5\\xb2wv\\x15{\\xb1\\xd8\\xb9\\xd9\\x1c\\xe8\\xe7\\xf5v\\x87\\x01\\xee\\xdf\\xb0\\xa7dr'\n",
      "AttributeDict({'accessList': [], 'blockHash': HexBytes('0x700baa5c36bdfd8846f9eb65411464b791fd0f47fe363815139475dfdd593616'), 'blockNumber': 13451709, 'chainId': '0x1', 'from': '0xB5AC0aB7766ae9Be1064020625848782C87e855D', 'gas': 254115, 'gasPrice': 53895864974, 'hash': HexBytes('0x1caee40b611bb1d3f6b5b27776157bb1d8b9d91ce8e7f5768701eedfb0a76472'), 'input': '0x993e1c4200000000000000000000000000000000000000000000000000000000000ea8dd000000000000000000000000251dfb9b69bd450cd87a80e9e59feb9b1ad972b1000000000000000000000000c02aaa39b223fe8d0a0e5c4f27ead9083c756cc2000000000000000000000000000000000000000000000000007ca50f8dbf395400000000000000000000000000000000000000000000000000000000000000a0000000000000000000000000000000000000000000000000000000000000014a01fdfbb5ae27aaad05b3417571000f69917c4da48e24bf16b6038c3eb54dbed8fd2f2aaa25eb37368d7476773e0e153c992d4f9c3b7deeb6d6d6bf9e845979f88e1b0188d008fc5890fc2083483ee04453239564ae1e1573c3c1a9fbfcce058f22e7024061561d6f61cb66bd803f704d6637664afcb11925dd478b5c6906b428f1ab911c0161de247e325565e571b622fd76b847d5e9e971bafe4d5805a65d6adee0f8559e23107086fc0c694ef491fcfbb61a41cdb4bc4c05f926e7215f4616755581d8671c01b79384961cf7dd4fd5d3a1e185cc20db915136534561bf17ef27b7851127e96e0bf515d9f65976bc4c2968fb4f9252a4c0805320cbdc33fbb95343619431bf9f1c0171fdcd544eecf239441e97d076d0eda8b35ce9464ad844e498ad117ddf4bc9d33fc747a7d6afda5cc2cf4acb577e4af1460af57710c7c4d35c474dbee8f2fc341b00000000000000000000000000000000000000000000', 'maxFeePerGas': 56446339465, 'maxPriorityFeePerGas': 1500000000, 'nonce': 3, 'r': HexBytes('0x20cc8d612b57996c9c74170af36703417da34328544f9f559f04e3ad3a934839'), 's': HexBytes('0x69a88125a6c04eea733a6d0885bf522ed9a361a9bd70893679c524b0b75cead6'), 'to': '0x1A2a1c938CE3eC39b6D47113c7955bAa9DD454F2', 'transactionIndex': 272, 'type': '0x2', 'v': 1, 'value': 0})\n",
      "New Withdrawal\n",
      "AttributeDict({'_withdrawId': 960924, '_owner': '0x88C1e5FD54A1b6330e98d280988e051778d71116', '_tokenAddress': '0xCC8Fa225D80b9c7D42F96e9570156c65D6cAAa25', '_tokenNumber': 74271})\n",
      "Movement found in 13451711\n",
      "address: 0x1A2a1c938CE3eC39b6D47113c7955bAa9DD454F2\n",
      "TransactionHash: b'\\x06\\x0fhRS\\xb7\\xbav\\xf1vf)\\xc0~M8\\xb7\\x94v(\\xa7\\xe6\\x0eG\\xcfw<\\xe3\\xe4\\x0e\\xdc_'\n",
      "AttributeDict({'accessList': [], 'blockHash': HexBytes('0x9b95dc5c05fa2d6cfc7fab374597d828c609ff0c9be15d360544dc9871fdc6a0'), 'blockNumber': 13451711, 'chainId': '0x1', 'from': '0x88C1e5FD54A1b6330e98d280988e051778d71116', 'gas': 274104, 'gasPrice': 55050862007, 'hash': HexBytes('0x060f685253b7ba76f1766629c07e4d38b7947628a7e60e47cf773ce3e40edc5f'), 'input': '0x993e1c4200000000000000000000000000000000000000000000000000000000000ea99c00000000000000000000000088c1e5fd54a1b6330e98d280988e051778d71116000000000000000000000000cc8fa225d80b9c7d42f96e9570156c65d6caaa25000000000000000000000000000000000000000000000000000000000001221f00000000000000000000000000000000000000000000000000000000000000a000000000000000000000000000000000000000000000000000000000000001ce01f63bc52eaf8394195c6cfca5d5ce6fd097b888c38f7ffd0696a5e6d59b87dbca18b0b58c1bda7bcae057bffb1e0b0047bec919ddd9b3ba64198b021192a89f131c01b3ad8ad878b11ce7293cae562fcf8d2ebe1495ccdc8cc07f97004586c0432aab5e3f43fe86fb3fb8be5cb09fbf6b2da85ae3c0ce53a3003b4f33bb7af000cb6b1b0145f37e5914b3bad41bfb86cfe6af3417b7c8137b3a09ad8f9b6ea275d42777186a57546502391e6c5bc091b5d82ffcad7fa93ae2dc35fec1070b7e4dcc4b05a41b0185c1c0743dc0c9a60470c1a9b93528597ad003c387f8fa0661a2d2528bbc185842b267535dd3d1879a9b2128366dd29e2cf624b81444c787d546dc5b3b4800171c010b506ab61e4222ba93150bb2c22bd6197b13b34466b5665429d2bedca482311921d1f94dc1cac0d0231466fec47bf1184600d71a26b617c7b011f1dd4b15a6b21b01bbe3447e2a5bc2f435e5add8212185f741cab1f3853b5136155d89e57378a14f787fad5ba8ad8ee3a635c78a8ea313f16e0fa3022e669d4c8357357fef2497c81c01a0a22957a5052dc85e5e5583c87f1d5577c5fd747afe31d7b70deaa1ff011b1160f42b6d70a7095656f16fe89e6a8fcfc0d21d91cf52d82ba805627d44113e931c000000000000000000000000000000000000', 'maxFeePerGas': 56446339465, 'maxPriorityFeePerGas': 1500000000, 'nonce': 77, 'r': HexBytes('0x17a5b76f50ae7911ee70c277a587352cff47a54df4c9ea8818fc87fe9e292dc2'), 's': HexBytes('0x48c4ef4c7a277ab847527c421194a742308c914c81b66dbbf134af812ac45787'), 'to': '0x1A2a1c938CE3eC39b6D47113c7955bAa9DD454F2', 'transactionIndex': 81, 'type': '0x2', 'v': 1, 'value': 0})\n",
      "New Deposit\n",
      "AttributeDict({'_depositId': 1795317, '_owner': '0xF8e16f23A927363F4D452C7Ebc005378Ffa1acC7', '_tokenAddress': '0xC02aaA39b223FE8D0A0e5C4F27eAD9083C756Cc2', '_sidechainAddress': '0xc99a6A985eD2Cac1ef41640596C5A5f9F4E19Ef5', '_standard': 20, '_tokenNumber': 260000000000000000})\n",
      "Movement found in 13451713\n",
      "address: 0x1A2a1c938CE3eC39b6D47113c7955bAa9DD454F2\n",
      "TransactionHash: b'P\\xcb\\x86\\xa6\\xdc\\xef\\xef\\x05\\xe2\\xa1\\x1aAq@\\xa3\\x17E6\\xcb\\x11\\x97\\x98\\x8dCI\\x93lnD%\\x8b\\xf4'\n",
      "AttributeDict({'accessList': [], 'blockHash': HexBytes('0x4feda5eab5cb3c1eb4d500c5780e557257a0a04ca6320a5760a317b6d5bcdc35'), 'blockNumber': 13451713, 'chainId': '0x1', 'from': '0xc91A536552F8576465f3e0dd6fA9Fd1a2E7F9974', 'gas': 215875, 'gasPrice': 64940305502, 'hash': HexBytes('0x50cb86a6dcefef05e2a11a417140a3174536cb1197988d4349936c6e44258bf4'), 'input': '0xeee3f07a000000000000000000000000f8e16f23a927363f4d452c7ebc005378ffa1acc7', 'maxFeePerGas': 77052271392, 'maxPriorityFeePerGas': 1500000000, 'nonce': 12, 'r': HexBytes('0x034ba1f51cec3cc9e73f0f1abdc32e822228e5ed286a2db5a01811002c3c3f3f'), 's': HexBytes('0x18f2d3cd627bc1a7e477b365cbd782811c3cc5f8f98f6ccc1ada02161aea7cad'), 'to': '0x1A2a1c938CE3eC39b6D47113c7955bAa9DD454F2', 'transactionIndex': 426, 'type': '0x2', 'v': 1, 'value': 260000000000000000})\n"
     ]
    }
   ],
   "source": [
    "await main()"
   ]
  },
  {
   "cell_type": "code",
   "execution_count": 34,
   "id": "5f3eec8d",
   "metadata": {},
   "outputs": [
    {
     "data": {
      "text/html": [
       "<div>\n",
       "<style scoped>\n",
       "    .dataframe tbody tr th:only-of-type {\n",
       "        vertical-align: middle;\n",
       "    }\n",
       "\n",
       "    .dataframe tbody tr th {\n",
       "        vertical-align: top;\n",
       "    }\n",
       "\n",
       "    .dataframe thead th {\n",
       "        text-align: right;\n",
       "    }\n",
       "</style>\n",
       "<table border=\"1\" class=\"dataframe\">\n",
       "  <thead>\n",
       "    <tr style=\"text-align: right;\">\n",
       "      <th></th>\n",
       "    </tr>\n",
       "  </thead>\n",
       "  <tbody>\n",
       "  </tbody>\n",
       "</table>\n",
       "</div>"
      ],
      "text/plain": [
       "Empty DataFrame\n",
       "Columns: []\n",
       "Index: []"
      ]
     },
     "execution_count": 34,
     "metadata": {},
     "output_type": "execute_result"
    }
   ],
   "source": [
    "block_data"
   ]
  },
  {
   "cell_type": "code",
   "execution_count": null,
   "id": "77cb3564",
   "metadata": {},
   "outputs": [],
   "source": [
    "import asyncio\n",
    "\n",
    "async def rxer():\n",
    "    i=0\n",
    "    while True:\n",
    "        i+=1\n",
    "        print ('Rxer ',i)\n",
    "        await asyncio.sleep(1)\n",
    "\n",
    "async def WsServe():\n",
    "    for i in range(5):\n",
    "        print ('WsServe',i)\n",
    "        await asyncio.sleep(1)\n",
    "\n",
    "    print ('Finish')\n",
    "    loop.stop()\n",
    "    loop.close()\n",
    "\n",
    "loop=asyncio.get_event_loop()\n",
    "loop.create_task(rxer())\n",
    "loop.run_until_complete(WsServe())\n",
    "loop.run_forever()"
   ]
  },
  {
   "cell_type": "code",
   "execution_count": null,
   "id": "5d700f90",
   "metadata": {},
   "outputs": [],
   "source": [
    "async def WsServe(stop_event):\n",
    "    for i in range(5):\n",
    "        print ('WsServe',i)\n",
    "        await asyncio.sleep(1)\n",
    "\n",
    "    print ('Finish')\n",
    "    stop_event.set()\n",
    "    await asyncio.sleep(1)\n",
    "\n",
    "async def main():\n",
    "    asyncio.get_event_loop().create_task(rxer())\n",
    "    stop_event = asyncio.Event()\n",
    "    asyncio.get_event_loop().create_task(WsServe(stop_event))\n",
    "    await stop_event.wait()\n",
    "\n",
    "asyncio.run(main())\n",
    "\n",
    "# python 3.6 and older:\n",
    "#asyncio.get_event_loop().run_until_complete(main())"
   ]
  }
 ],
 "metadata": {
  "kernelspec": {
   "display_name": "Python 3 (ipykernel)",
   "language": "python",
   "name": "python3"
  },
  "language_info": {
   "codemirror_mode": {
    "name": "ipython",
    "version": 3
   },
   "file_extension": ".py",
   "mimetype": "text/x-python",
   "name": "python",
   "nbconvert_exporter": "python",
   "pygments_lexer": "ipython3",
   "version": "3.9.5"
  }
 },
 "nbformat": 4,
 "nbformat_minor": 5
}
